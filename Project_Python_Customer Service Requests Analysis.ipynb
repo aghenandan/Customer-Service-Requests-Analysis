{
 "cells": [
  {
   "cell_type": "code",
   "execution_count": 1,
   "id": "290a8d52",
   "metadata": {
    "ExecuteTime": {
     "end_time": "2022-07-17T11:45:31.645915Z",
     "start_time": "2022-07-17T11:45:30.490545Z"
    }
   },
   "outputs": [],
   "source": [
    "# importing required libraries\n",
    "import numpy as np\n",
    "import pandas as pd\n",
    "import matplotlib.pyplot as plt\n",
    "from matplotlib import style\n",
    "%matplotlib inline\n",
    "import seaborn as sns\n",
    "import datetime\n",
    "\n",
    "from scipy.stats import chi2_contingency\n",
    "from scipy.stats import chi2"
   ]
  },
  {
   "cell_type": "code",
   "execution_count": 2,
   "id": "18833ce9",
   "metadata": {
    "ExecuteTime": {
     "end_time": "2022-07-17T11:46:37.222831Z",
     "start_time": "2022-07-17T11:46:26.385830Z"
    }
   },
   "outputs": [
    {
     "data": {
      "text/html": [
       "<div>\n",
       "<style scoped>\n",
       "    .dataframe tbody tr th:only-of-type {\n",
       "        vertical-align: middle;\n",
       "    }\n",
       "\n",
       "    .dataframe tbody tr th {\n",
       "        vertical-align: top;\n",
       "    }\n",
       "\n",
       "    .dataframe thead th {\n",
       "        text-align: right;\n",
       "    }\n",
       "</style>\n",
       "<table border=\"1\" class=\"dataframe\">\n",
       "  <thead>\n",
       "    <tr style=\"text-align: right;\">\n",
       "      <th></th>\n",
       "      <th>Unique Key</th>\n",
       "      <th>Created Date</th>\n",
       "      <th>Closed Date</th>\n",
       "      <th>Agency</th>\n",
       "      <th>Agency Name</th>\n",
       "      <th>Complaint Type</th>\n",
       "      <th>Descriptor</th>\n",
       "      <th>Location Type</th>\n",
       "      <th>Incident Zip</th>\n",
       "      <th>Incident Address</th>\n",
       "      <th>...</th>\n",
       "      <th>Bridge Highway Name</th>\n",
       "      <th>Bridge Highway Direction</th>\n",
       "      <th>Road Ramp</th>\n",
       "      <th>Bridge Highway Segment</th>\n",
       "      <th>Garage Lot Name</th>\n",
       "      <th>Ferry Direction</th>\n",
       "      <th>Ferry Terminal Name</th>\n",
       "      <th>Latitude</th>\n",
       "      <th>Longitude</th>\n",
       "      <th>Location</th>\n",
       "    </tr>\n",
       "  </thead>\n",
       "  <tbody>\n",
       "    <tr>\n",
       "      <th>0</th>\n",
       "      <td>32310363</td>\n",
       "      <td>12/31/2015 11:59:45 PM</td>\n",
       "      <td>01/01/2016 12:55:15 AM</td>\n",
       "      <td>NYPD</td>\n",
       "      <td>New York City Police Department</td>\n",
       "      <td>Noise - Street/Sidewalk</td>\n",
       "      <td>Loud Music/Party</td>\n",
       "      <td>Street/Sidewalk</td>\n",
       "      <td>10034.0</td>\n",
       "      <td>71 VERMILYEA AVENUE</td>\n",
       "      <td>...</td>\n",
       "      <td>NaN</td>\n",
       "      <td>NaN</td>\n",
       "      <td>NaN</td>\n",
       "      <td>NaN</td>\n",
       "      <td>NaN</td>\n",
       "      <td>NaN</td>\n",
       "      <td>NaN</td>\n",
       "      <td>40.865682</td>\n",
       "      <td>-73.923501</td>\n",
       "      <td>(40.86568153633767, -73.92350095571744)</td>\n",
       "    </tr>\n",
       "    <tr>\n",
       "      <th>1</th>\n",
       "      <td>32309934</td>\n",
       "      <td>12/31/2015 11:59:44 PM</td>\n",
       "      <td>01/01/2016 01:26:57 AM</td>\n",
       "      <td>NYPD</td>\n",
       "      <td>New York City Police Department</td>\n",
       "      <td>Blocked Driveway</td>\n",
       "      <td>No Access</td>\n",
       "      <td>Street/Sidewalk</td>\n",
       "      <td>11105.0</td>\n",
       "      <td>27-07 23 AVENUE</td>\n",
       "      <td>...</td>\n",
       "      <td>NaN</td>\n",
       "      <td>NaN</td>\n",
       "      <td>NaN</td>\n",
       "      <td>NaN</td>\n",
       "      <td>NaN</td>\n",
       "      <td>NaN</td>\n",
       "      <td>NaN</td>\n",
       "      <td>40.775945</td>\n",
       "      <td>-73.915094</td>\n",
       "      <td>(40.775945312321085, -73.91509393898605)</td>\n",
       "    </tr>\n",
       "    <tr>\n",
       "      <th>2</th>\n",
       "      <td>32309159</td>\n",
       "      <td>12/31/2015 11:59:29 PM</td>\n",
       "      <td>01/01/2016 04:51:03 AM</td>\n",
       "      <td>NYPD</td>\n",
       "      <td>New York City Police Department</td>\n",
       "      <td>Blocked Driveway</td>\n",
       "      <td>No Access</td>\n",
       "      <td>Street/Sidewalk</td>\n",
       "      <td>10458.0</td>\n",
       "      <td>2897 VALENTINE AVENUE</td>\n",
       "      <td>...</td>\n",
       "      <td>NaN</td>\n",
       "      <td>NaN</td>\n",
       "      <td>NaN</td>\n",
       "      <td>NaN</td>\n",
       "      <td>NaN</td>\n",
       "      <td>NaN</td>\n",
       "      <td>NaN</td>\n",
       "      <td>40.870325</td>\n",
       "      <td>-73.888525</td>\n",
       "      <td>(40.870324522111424, -73.88852464418646)</td>\n",
       "    </tr>\n",
       "    <tr>\n",
       "      <th>3</th>\n",
       "      <td>32305098</td>\n",
       "      <td>12/31/2015 11:57:46 PM</td>\n",
       "      <td>01/01/2016 07:43:13 AM</td>\n",
       "      <td>NYPD</td>\n",
       "      <td>New York City Police Department</td>\n",
       "      <td>Illegal Parking</td>\n",
       "      <td>Commercial Overnight Parking</td>\n",
       "      <td>Street/Sidewalk</td>\n",
       "      <td>10461.0</td>\n",
       "      <td>2940 BAISLEY AVENUE</td>\n",
       "      <td>...</td>\n",
       "      <td>NaN</td>\n",
       "      <td>NaN</td>\n",
       "      <td>NaN</td>\n",
       "      <td>NaN</td>\n",
       "      <td>NaN</td>\n",
       "      <td>NaN</td>\n",
       "      <td>NaN</td>\n",
       "      <td>40.835994</td>\n",
       "      <td>-73.828379</td>\n",
       "      <td>(40.83599404683083, -73.82837939584206)</td>\n",
       "    </tr>\n",
       "    <tr>\n",
       "      <th>4</th>\n",
       "      <td>32306529</td>\n",
       "      <td>12/31/2015 11:56:58 PM</td>\n",
       "      <td>01/01/2016 03:24:42 AM</td>\n",
       "      <td>NYPD</td>\n",
       "      <td>New York City Police Department</td>\n",
       "      <td>Illegal Parking</td>\n",
       "      <td>Blocked Sidewalk</td>\n",
       "      <td>Street/Sidewalk</td>\n",
       "      <td>11373.0</td>\n",
       "      <td>87-14 57 ROAD</td>\n",
       "      <td>...</td>\n",
       "      <td>NaN</td>\n",
       "      <td>NaN</td>\n",
       "      <td>NaN</td>\n",
       "      <td>NaN</td>\n",
       "      <td>NaN</td>\n",
       "      <td>NaN</td>\n",
       "      <td>NaN</td>\n",
       "      <td>40.733060</td>\n",
       "      <td>-73.874170</td>\n",
       "      <td>(40.733059618956815, -73.87416975810375)</td>\n",
       "    </tr>\n",
       "  </tbody>\n",
       "</table>\n",
       "<p>5 rows × 53 columns</p>\n",
       "</div>"
      ],
      "text/plain": [
       "   Unique Key            Created Date             Closed Date Agency  \\\n",
       "0    32310363  12/31/2015 11:59:45 PM  01/01/2016 12:55:15 AM   NYPD   \n",
       "1    32309934  12/31/2015 11:59:44 PM  01/01/2016 01:26:57 AM   NYPD   \n",
       "2    32309159  12/31/2015 11:59:29 PM  01/01/2016 04:51:03 AM   NYPD   \n",
       "3    32305098  12/31/2015 11:57:46 PM  01/01/2016 07:43:13 AM   NYPD   \n",
       "4    32306529  12/31/2015 11:56:58 PM  01/01/2016 03:24:42 AM   NYPD   \n",
       "\n",
       "                       Agency Name           Complaint Type  \\\n",
       "0  New York City Police Department  Noise - Street/Sidewalk   \n",
       "1  New York City Police Department         Blocked Driveway   \n",
       "2  New York City Police Department         Blocked Driveway   \n",
       "3  New York City Police Department          Illegal Parking   \n",
       "4  New York City Police Department          Illegal Parking   \n",
       "\n",
       "                     Descriptor    Location Type  Incident Zip  \\\n",
       "0              Loud Music/Party  Street/Sidewalk       10034.0   \n",
       "1                     No Access  Street/Sidewalk       11105.0   \n",
       "2                     No Access  Street/Sidewalk       10458.0   \n",
       "3  Commercial Overnight Parking  Street/Sidewalk       10461.0   \n",
       "4              Blocked Sidewalk  Street/Sidewalk       11373.0   \n",
       "\n",
       "        Incident Address  ... Bridge Highway Name Bridge Highway Direction  \\\n",
       "0    71 VERMILYEA AVENUE  ...                 NaN                      NaN   \n",
       "1        27-07 23 AVENUE  ...                 NaN                      NaN   \n",
       "2  2897 VALENTINE AVENUE  ...                 NaN                      NaN   \n",
       "3    2940 BAISLEY AVENUE  ...                 NaN                      NaN   \n",
       "4          87-14 57 ROAD  ...                 NaN                      NaN   \n",
       "\n",
       "  Road Ramp Bridge Highway Segment Garage Lot Name Ferry Direction  \\\n",
       "0       NaN                    NaN             NaN             NaN   \n",
       "1       NaN                    NaN             NaN             NaN   \n",
       "2       NaN                    NaN             NaN             NaN   \n",
       "3       NaN                    NaN             NaN             NaN   \n",
       "4       NaN                    NaN             NaN             NaN   \n",
       "\n",
       "  Ferry Terminal Name   Latitude  Longitude  \\\n",
       "0                 NaN  40.865682 -73.923501   \n",
       "1                 NaN  40.775945 -73.915094   \n",
       "2                 NaN  40.870325 -73.888525   \n",
       "3                 NaN  40.835994 -73.828379   \n",
       "4                 NaN  40.733060 -73.874170   \n",
       "\n",
       "                                   Location  \n",
       "0   (40.86568153633767, -73.92350095571744)  \n",
       "1  (40.775945312321085, -73.91509393898605)  \n",
       "2  (40.870324522111424, -73.88852464418646)  \n",
       "3   (40.83599404683083, -73.82837939584206)  \n",
       "4  (40.733059618956815, -73.87416975810375)  \n",
       "\n",
       "[5 rows x 53 columns]"
      ]
     },
     "execution_count": 2,
     "metadata": {},
     "output_type": "execute_result"
    }
   ],
   "source": [
    "# reading the dataset\n",
    "\n",
    "dataset = pd.read_csv(\"E:\\\\Docs\\\\Simplilearn\\\\July\\\\Project_Two_Dataset\\\\311_Service_Requests_from_2010_to_Present.csv\", low_memory = False)\n",
    "\n",
    "dataset.head(5)"
   ]
  },
  {
   "cell_type": "code",
   "execution_count": 3,
   "id": "b2f82864",
   "metadata": {
    "ExecuteTime": {
     "end_time": "2022-07-17T11:46:47.319770Z",
     "start_time": "2022-07-17T11:46:47.306804Z"
    }
   },
   "outputs": [
    {
     "data": {
      "text/plain": [
       "(364558, 53)"
      ]
     },
     "execution_count": 3,
     "metadata": {},
     "output_type": "execute_result"
    }
   ],
   "source": [
    "dataset.shape"
   ]
  },
  {
   "cell_type": "code",
   "execution_count": 4,
   "id": "45ecb813",
   "metadata": {
    "ExecuteTime": {
     "end_time": "2022-07-17T11:46:56.203593Z",
     "start_time": "2022-07-17T11:46:55.500473Z"
    }
   },
   "outputs": [
    {
     "name": "stdout",
     "output_type": "stream",
     "text": [
      "<class 'pandas.core.frame.DataFrame'>\n",
      "RangeIndex: 364558 entries, 0 to 364557\n",
      "Data columns (total 53 columns):\n",
      " #   Column                          Non-Null Count   Dtype  \n",
      "---  ------                          --------------   -----  \n",
      " 0   Unique Key                      364558 non-null  int64  \n",
      " 1   Created Date                    364558 non-null  object \n",
      " 2   Closed Date                     362177 non-null  object \n",
      " 3   Agency                          364558 non-null  object \n",
      " 4   Agency Name                     364558 non-null  object \n",
      " 5   Complaint Type                  364558 non-null  object \n",
      " 6   Descriptor                      358057 non-null  object \n",
      " 7   Location Type                   364425 non-null  object \n",
      " 8   Incident Zip                    361560 non-null  float64\n",
      " 9   Incident Address                312859 non-null  object \n",
      " 10  Street Name                     312859 non-null  object \n",
      " 11  Cross Street 1                  307370 non-null  object \n",
      " 12  Cross Street 2                  306753 non-null  object \n",
      " 13  Intersection Street 1           51120 non-null   object \n",
      " 14  Intersection Street 2           50512 non-null   object \n",
      " 15  Address Type                    361306 non-null  object \n",
      " 16  City                            361561 non-null  object \n",
      " 17  Landmark                        375 non-null     object \n",
      " 18  Facility Type                   362169 non-null  object \n",
      " 19  Status                          364558 non-null  object \n",
      " 20  Due Date                        364555 non-null  object \n",
      " 21  Resolution Description          364558 non-null  object \n",
      " 22  Resolution Action Updated Date  362156 non-null  object \n",
      " 23  Community Board                 364558 non-null  object \n",
      " 24  Borough                         364558 non-null  object \n",
      " 25  X Coordinate (State Plane)      360528 non-null  float64\n",
      " 26  Y Coordinate (State Plane)      360528 non-null  float64\n",
      " 27  Park Facility Name              364558 non-null  object \n",
      " 28  Park Borough                    364558 non-null  object \n",
      " 29  School Name                     364558 non-null  object \n",
      " 30  School Number                   364558 non-null  object \n",
      " 31  School Region                   364557 non-null  object \n",
      " 32  School Code                     364557 non-null  object \n",
      " 33  School Phone Number             364558 non-null  object \n",
      " 34  School Address                  364558 non-null  object \n",
      " 35  School City                     364558 non-null  object \n",
      " 36  School State                    364558 non-null  object \n",
      " 37  School Zip                      364557 non-null  object \n",
      " 38  School Not Found                364558 non-null  object \n",
      " 39  School or Citywide Complaint    0 non-null       float64\n",
      " 40  Vehicle Type                    0 non-null       float64\n",
      " 41  Taxi Company Borough            0 non-null       float64\n",
      " 42  Taxi Pick Up Location           0 non-null       float64\n",
      " 43  Bridge Highway Name             297 non-null     object \n",
      " 44  Bridge Highway Direction        297 non-null     object \n",
      " 45  Road Ramp                       262 non-null     object \n",
      " 46  Bridge Highway Segment          262 non-null     object \n",
      " 47  Garage Lot Name                 0 non-null       float64\n",
      " 48  Ferry Direction                 1 non-null       object \n",
      " 49  Ferry Terminal Name             2 non-null       object \n",
      " 50  Latitude                        360528 non-null  float64\n",
      " 51  Longitude                       360528 non-null  float64\n",
      " 52  Location                        360528 non-null  object \n",
      "dtypes: float64(10), int64(1), object(42)\n",
      "memory usage: 147.4+ MB\n"
     ]
    }
   ],
   "source": [
    "dataset.info()"
   ]
  },
  {
   "cell_type": "code",
   "execution_count": 5,
   "id": "55fa4364",
   "metadata": {
    "ExecuteTime": {
     "end_time": "2022-07-17T11:47:12.922345Z",
     "start_time": "2022-07-17T11:47:12.912375Z"
    }
   },
   "outputs": [
    {
     "data": {
      "text/plain": [
       "Index(['Unique Key', 'Created Date', 'Closed Date', 'Agency', 'Agency Name',\n",
       "       'Complaint Type', 'Descriptor', 'Location Type', 'Incident Zip',\n",
       "       'Incident Address', 'Street Name', 'Cross Street 1', 'Cross Street 2',\n",
       "       'Intersection Street 1', 'Intersection Street 2', 'Address Type',\n",
       "       'City', 'Landmark', 'Facility Type', 'Status', 'Due Date',\n",
       "       'Resolution Description', 'Resolution Action Updated Date',\n",
       "       'Community Board', 'Borough', 'X Coordinate (State Plane)',\n",
       "       'Y Coordinate (State Plane)', 'Park Facility Name', 'Park Borough',\n",
       "       'School Name', 'School Number', 'School Region', 'School Code',\n",
       "       'School Phone Number', 'School Address', 'School City', 'School State',\n",
       "       'School Zip', 'School Not Found', 'School or Citywide Complaint',\n",
       "       'Vehicle Type', 'Taxi Company Borough', 'Taxi Pick Up Location',\n",
       "       'Bridge Highway Name', 'Bridge Highway Direction', 'Road Ramp',\n",
       "       'Bridge Highway Segment', 'Garage Lot Name', 'Ferry Direction',\n",
       "       'Ferry Terminal Name', 'Latitude', 'Longitude', 'Location'],\n",
       "      dtype='object')"
      ]
     },
     "execution_count": 5,
     "metadata": {},
     "output_type": "execute_result"
    }
   ],
   "source": [
    "dataset.columns"
   ]
  },
  {
   "cell_type": "code",
   "execution_count": 6,
   "id": "1e81ca5d",
   "metadata": {
    "ExecuteTime": {
     "end_time": "2022-07-17T11:47:38.778327Z",
     "start_time": "2022-07-17T11:47:38.724469Z"
    }
   },
   "outputs": [],
   "source": [
    "# dropping the irrelevant columns\n",
    "\n",
    "drop_columns = ['Agency Name','Incident Address','Street Name','Cross Street 1','Cross Street 2','Intersection Street 1',\n",
    "'Intersection Street 2','Address Type','Park Facility Name','Park Borough','School Name',\n",
    "'School Number','School Region','School Code','School Phone Number','School Address','School City',\n",
    "'School State','School Zip','School Not Found','School or Citywide Complaint','Vehicle Type',\n",
    "'Taxi Company Borough','Taxi Pick Up Location','Bridge Highway Name','Bridge Highway Direction',\n",
    "'Road Ramp','Bridge Highway Segment','Garage Lot Name','Ferry Direction','Ferry Terminal Name','Landmark',\n",
    "'X Coordinate (State Plane)','Y Coordinate (State Plane)','Due Date','Resolution Action Updated Date','Community Board','Facility Type',\n",
    "'Location']\n",
    "\n",
    "dataset = dataset.drop(drop_columns, axis=1)"
   ]
  },
  {
   "cell_type": "code",
   "execution_count": 7,
   "id": "64f5c760",
   "metadata": {
    "ExecuteTime": {
     "end_time": "2022-07-17T11:47:47.267534Z",
     "start_time": "2022-07-17T11:47:47.245596Z"
    }
   },
   "outputs": [
    {
     "data": {
      "text/plain": [
       "(364558, 14)"
      ]
     },
     "execution_count": 7,
     "metadata": {},
     "output_type": "execute_result"
    }
   ],
   "source": [
    "dataset.shape"
   ]
  },
  {
   "cell_type": "code",
   "execution_count": 8,
   "id": "a68acb88",
   "metadata": {
    "ExecuteTime": {
     "end_time": "2022-07-17T11:47:59.644145Z",
     "start_time": "2022-07-17T11:47:59.476624Z"
    }
   },
   "outputs": [
    {
     "name": "stdout",
     "output_type": "stream",
     "text": [
      "<class 'pandas.core.frame.DataFrame'>\n",
      "RangeIndex: 364558 entries, 0 to 364557\n",
      "Data columns (total 14 columns):\n",
      " #   Column                  Non-Null Count   Dtype  \n",
      "---  ------                  --------------   -----  \n",
      " 0   Unique Key              364558 non-null  int64  \n",
      " 1   Created Date            364558 non-null  object \n",
      " 2   Closed Date             362177 non-null  object \n",
      " 3   Agency                  364558 non-null  object \n",
      " 4   Complaint Type          364558 non-null  object \n",
      " 5   Descriptor              358057 non-null  object \n",
      " 6   Location Type           364425 non-null  object \n",
      " 7   Incident Zip            361560 non-null  float64\n",
      " 8   City                    361561 non-null  object \n",
      " 9   Status                  364558 non-null  object \n",
      " 10  Resolution Description  364558 non-null  object \n",
      " 11  Borough                 364558 non-null  object \n",
      " 12  Latitude                360528 non-null  float64\n",
      " 13  Longitude               360528 non-null  float64\n",
      "dtypes: float64(3), int64(1), object(10)\n",
      "memory usage: 38.9+ MB\n"
     ]
    }
   ],
   "source": [
    "# checking the info of the dataset\n",
    "dataset.info()"
   ]
  },
  {
   "cell_type": "code",
   "execution_count": 9,
   "id": "9005bc26",
   "metadata": {
    "ExecuteTime": {
     "end_time": "2022-07-17T11:48:09.452597Z",
     "start_time": "2022-07-17T11:48:09.288834Z"
    }
   },
   "outputs": [
    {
     "data": {
      "text/plain": [
       "Unique Key                   0\n",
       "Created Date                 0\n",
       "Closed Date               2381\n",
       "Agency                       0\n",
       "Complaint Type               0\n",
       "Descriptor                6501\n",
       "Location Type              133\n",
       "Incident Zip              2998\n",
       "City                      2997\n",
       "Status                       0\n",
       "Resolution Description       0\n",
       "Borough                      0\n",
       "Latitude                  4030\n",
       "Longitude                 4030\n",
       "dtype: int64"
      ]
     },
     "execution_count": 9,
     "metadata": {},
     "output_type": "execute_result"
    }
   ],
   "source": [
    "# checking the number of null values in the columns\n",
    "dataset.isnull().sum()"
   ]
  },
  {
   "cell_type": "code",
   "execution_count": 10,
   "id": "da743080",
   "metadata": {
    "ExecuteTime": {
     "end_time": "2022-07-17T11:48:24.917623Z",
     "start_time": "2022-07-17T11:48:24.773013Z"
    }
   },
   "outputs": [],
   "source": [
    "# choosing the closed cases only to eliminate the null values\n",
    "\n",
    "dataset = dataset[dataset['Status'] == 'Closed']"
   ]
  },
  {
   "cell_type": "code",
   "execution_count": 11,
   "id": "86c7930e",
   "metadata": {
    "ExecuteTime": {
     "end_time": "2022-07-17T11:48:32.573444Z",
     "start_time": "2022-07-17T11:48:32.425822Z"
    }
   },
   "outputs": [
    {
     "data": {
      "text/plain": [
       "Unique Key                   0\n",
       "Created Date                 0\n",
       "Closed Date                  0\n",
       "Agency                       0\n",
       "Complaint Type               0\n",
       "Descriptor                6490\n",
       "Location Type               67\n",
       "Incident Zip               675\n",
       "City                       674\n",
       "Status                       0\n",
       "Resolution Description       0\n",
       "Borough                      0\n",
       "Latitude                  1707\n",
       "Longitude                 1707\n",
       "dtype: int64"
      ]
     },
     "execution_count": 11,
     "metadata": {},
     "output_type": "execute_result"
    }
   ],
   "source": [
    "dataset.isnull().sum()"
   ]
  },
  {
   "cell_type": "code",
   "execution_count": 12,
   "id": "db8ee2b1",
   "metadata": {
    "ExecuteTime": {
     "end_time": "2022-07-17T11:48:42.252511Z",
     "start_time": "2022-07-17T11:48:42.177510Z"
    }
   },
   "outputs": [],
   "source": [
    "# since all the cases are of closed cases we can now drop the column Status as every value of its data are same\n",
    "dataset = dataset.drop(['Status'], axis = 1)"
   ]
  },
  {
   "cell_type": "code",
   "execution_count": 13,
   "id": "012054bf",
   "metadata": {
    "ExecuteTime": {
     "end_time": "2022-07-17T11:48:50.395079Z",
     "start_time": "2022-07-17T11:48:50.379121Z"
    }
   },
   "outputs": [
    {
     "data": {
      "text/plain": [
       "(362114, 13)"
      ]
     },
     "execution_count": 13,
     "metadata": {},
     "output_type": "execute_result"
    }
   ],
   "source": [
    "dataset.shape"
   ]
  },
  {
   "cell_type": "code",
   "execution_count": 14,
   "id": "60ab370f",
   "metadata": {
    "ExecuteTime": {
     "end_time": "2022-07-17T11:49:03.372754Z",
     "start_time": "2022-07-17T11:49:03.101479Z"
    }
   },
   "outputs": [
    {
     "name": "stdout",
     "output_type": "stream",
     "text": [
      "<class 'pandas.core.frame.DataFrame'>\n",
      "Int64Index: 353988 entries, 0 to 364557\n",
      "Data columns (total 13 columns):\n",
      " #   Column                  Non-Null Count   Dtype  \n",
      "---  ------                  --------------   -----  \n",
      " 0   Unique Key              353988 non-null  int64  \n",
      " 1   Created Date            353988 non-null  object \n",
      " 2   Closed Date             353988 non-null  object \n",
      " 3   Agency                  353988 non-null  object \n",
      " 4   Complaint Type          353988 non-null  object \n",
      " 5   Descriptor              353988 non-null  object \n",
      " 6   Location Type           353933 non-null  object \n",
      " 7   Incident Zip            353948 non-null  float64\n",
      " 8   City                    353948 non-null  object \n",
      " 9   Resolution Description  353988 non-null  object \n",
      " 10  Borough                 353988 non-null  object \n",
      " 11  Latitude                353988 non-null  float64\n",
      " 12  Longitude               353988 non-null  float64\n",
      "dtypes: float64(3), int64(1), object(9)\n",
      "memory usage: 37.8+ MB\n"
     ]
    }
   ],
   "source": [
    "# out of the remaining columns only Descriptor, Latitude and Longitude has over 1k null values\n",
    "dataset = dataset[(dataset['Descriptor'].notnull()) & (dataset['Latitude'].notnull()) &(dataset['Longitude'].notnull())]\n",
    "\n",
    "dataset.info()"
   ]
  },
  {
   "cell_type": "code",
   "execution_count": 15,
   "id": "6e683aae",
   "metadata": {
    "ExecuteTime": {
     "end_time": "2022-07-17T11:49:13.367944Z",
     "start_time": "2022-07-17T11:49:13.218347Z"
    }
   },
   "outputs": [
    {
     "data": {
      "text/plain": [
       "Unique Key                 0\n",
       "Created Date               0\n",
       "Closed Date                0\n",
       "Agency                     0\n",
       "Complaint Type             0\n",
       "Descriptor                 0\n",
       "Location Type             55\n",
       "Incident Zip              40\n",
       "City                      40\n",
       "Resolution Description     0\n",
       "Borough                    0\n",
       "Latitude                   0\n",
       "Longitude                  0\n",
       "dtype: int64"
      ]
     },
     "execution_count": 15,
     "metadata": {},
     "output_type": "execute_result"
    }
   ],
   "source": [
    "# rechecking remaining null values\n",
    "dataset.isnull().sum()"
   ]
  },
  {
   "cell_type": "code",
   "execution_count": 16,
   "id": "3420687d",
   "metadata": {
    "ExecuteTime": {
     "end_time": "2022-07-17T11:49:22.865502Z",
     "start_time": "2022-07-17T11:49:22.627172Z"
    }
   },
   "outputs": [
    {
     "data": {
      "text/plain": [
       "Unique Key                0\n",
       "Created Date              0\n",
       "Closed Date               0\n",
       "Agency                    0\n",
       "Complaint Type            0\n",
       "Descriptor                0\n",
       "Location Type             0\n",
       "Incident Zip              0\n",
       "City                      0\n",
       "Resolution Description    0\n",
       "Borough                   0\n",
       "Latitude                  0\n",
       "Longitude                 0\n",
       "dtype: int64"
      ]
     },
     "execution_count": 16,
     "metadata": {},
     "output_type": "execute_result"
    }
   ],
   "source": [
    "# still there are few null values in our dataset. we will remove them\n",
    "dataset = dataset[(dataset['Location Type'].notnull()) & (dataset['Incident Zip'].notnull()) &(dataset['City'].notnull())]\n",
    "\n",
    "# rechecking for null values\n",
    "dataset.isnull().sum()"
   ]
  },
  {
   "cell_type": "code",
   "execution_count": 17,
   "id": "4ee96981",
   "metadata": {
    "ExecuteTime": {
     "end_time": "2022-07-17T11:49:31.634843Z",
     "start_time": "2022-07-17T11:49:31.617888Z"
    }
   },
   "outputs": [
    {
     "data": {
      "text/plain": [
       "(291107, 13)"
      ]
     },
     "execution_count": 17,
     "metadata": {},
     "output_type": "execute_result"
    }
   ],
   "source": [
    "# checking the shape our datset\n",
    "dataset.shape\n",
    "(291107, 13)"
   ]
  },
  {
   "cell_type": "code",
   "execution_count": 22,
   "id": "2e833a31",
   "metadata": {
    "ExecuteTime": {
     "end_time": "2022-07-17T11:51:39.801741Z",
     "start_time": "2022-07-17T11:51:39.794759Z"
    }
   },
   "outputs": [],
   "source": [
    "# 2. Read or convert the columns ‘Created Date’ and Closed Date’ to datetime datatype and create a new column ‘Request_Closing_Time’ as the time elapsed between request creation and request closing. (Hint: Explore the package/module datetime)\"\"\"\"\"\""
   ]
  },
  {
   "cell_type": "code",
   "execution_count": 18,
   "id": "cb900c23",
   "metadata": {
    "ExecuteTime": {
     "end_time": "2022-07-17T11:51:10.523973Z",
     "start_time": "2022-07-17T11:49:47.852456Z"
    }
   },
   "outputs": [
    {
     "name": "stdout",
     "output_type": "stream",
     "text": [
      "<class 'pandas.core.frame.DataFrame'>\n",
      "Int64Index: 353891 entries, 0 to 364557\n",
      "Data columns (total 14 columns):\n",
      " #   Column                  Non-Null Count   Dtype          \n",
      "---  ------                  --------------   -----          \n",
      " 0   Unique Key              353891 non-null  int64          \n",
      " 1   Created Date            353891 non-null  datetime64[ns] \n",
      " 2   Closed Date             353891 non-null  datetime64[ns] \n",
      " 3   Agency                  353891 non-null  object         \n",
      " 4   Complaint Type          353891 non-null  object         \n",
      " 5   Descriptor              353891 non-null  object         \n",
      " 6   Location Type           353891 non-null  object         \n",
      " 7   Incident Zip            353891 non-null  float64        \n",
      " 8   City                    353891 non-null  object         \n",
      " 9   Resolution Description  353891 non-null  object         \n",
      " 10  Borough                 353891 non-null  object         \n",
      " 11  Latitude                353891 non-null  float64        \n",
      " 12  Longitude               353891 non-null  float64        \n",
      " 13  Request_Closing_Time    353891 non-null  timedelta64[ns]\n",
      "dtypes: datetime64[ns](2), float64(3), int64(1), object(7), timedelta64[ns](1)\n",
      "memory usage: 40.5+ MB\n"
     ]
    }
   ],
   "source": [
    "# converting 'Created Date' and 'Closed Date' to datetime datatype\n",
    "\n",
    "cols = ['Created Date', 'Closed Date']\n",
    "for col in cols:\n",
    "    dataset[col] = pd.to_datetime(dataset[col],infer_datetime_format=True)\n",
    "    \n",
    "# creating a new column Request_Closing_Time\n",
    "dataset['Request_Closing_Time'] = dataset[cols[1]] - dataset[cols[0]]\n",
    "\n",
    "# viewing the info to see the data types\n",
    "dataset.info()"
   ]
  },
  {
   "cell_type": "code",
   "execution_count": 23,
   "id": "c889ce35",
   "metadata": {
    "ExecuteTime": {
     "end_time": "2022-07-17T11:51:52.423529Z",
     "start_time": "2022-07-17T11:51:52.409563Z"
    }
   },
   "outputs": [],
   "source": [
    "# Provide major insights/patterns that you can offer in a visual format (graphs or tables); at least 4 major conclusions that you can come up with after generic data mining.\"\"\""
   ]
  },
  {
   "cell_type": "code",
   "execution_count": 21,
   "id": "b0bcb8ed",
   "metadata": {
    "ExecuteTime": {
     "end_time": "2022-07-17T11:51:17.808895Z",
     "start_time": "2022-07-17T11:51:17.681236Z"
    }
   },
   "outputs": [
    {
     "data": {
      "text/html": [
       "<div>\n",
       "<style scoped>\n",
       "    .dataframe tbody tr th:only-of-type {\n",
       "        vertical-align: middle;\n",
       "    }\n",
       "\n",
       "    .dataframe tbody tr th {\n",
       "        vertical-align: top;\n",
       "    }\n",
       "\n",
       "    .dataframe thead th {\n",
       "        text-align: right;\n",
       "    }\n",
       "</style>\n",
       "<table border=\"1\" class=\"dataframe\">\n",
       "  <thead>\n",
       "    <tr style=\"text-align: right;\">\n",
       "      <th></th>\n",
       "      <th>Unique Key</th>\n",
       "      <th>Incident Zip</th>\n",
       "      <th>Latitude</th>\n",
       "      <th>Longitude</th>\n",
       "      <th>Request_Closing_Time</th>\n",
       "    </tr>\n",
       "  </thead>\n",
       "  <tbody>\n",
       "    <tr>\n",
       "      <th>count</th>\n",
       "      <td>3.538910e+05</td>\n",
       "      <td>353891.000000</td>\n",
       "      <td>353891.000000</td>\n",
       "      <td>353891.000000</td>\n",
       "      <td>353891</td>\n",
       "    </tr>\n",
       "    <tr>\n",
       "      <th>mean</th>\n",
       "      <td>3.106374e+07</td>\n",
       "      <td>10866.932143</td>\n",
       "      <td>40.724788</td>\n",
       "      <td>-73.924394</td>\n",
       "      <td>0 days 04:11:24.057729639</td>\n",
       "    </tr>\n",
       "    <tr>\n",
       "      <th>std</th>\n",
       "      <td>7.358240e+05</td>\n",
       "      <td>575.363214</td>\n",
       "      <td>0.082264</td>\n",
       "      <td>0.079395</td>\n",
       "      <td>0 days 05:50:01.901604780</td>\n",
       "    </tr>\n",
       "    <tr>\n",
       "      <th>min</th>\n",
       "      <td>2.960737e+07</td>\n",
       "      <td>83.000000</td>\n",
       "      <td>40.499040</td>\n",
       "      <td>-74.254937</td>\n",
       "      <td>0 days 00:01:01</td>\n",
       "    </tr>\n",
       "    <tr>\n",
       "      <th>25%</th>\n",
       "      <td>3.049097e+07</td>\n",
       "      <td>10451.000000</td>\n",
       "      <td>40.667971</td>\n",
       "      <td>-73.971468</td>\n",
       "      <td>0 days 01:15:31</td>\n",
       "    </tr>\n",
       "    <tr>\n",
       "      <th>50%</th>\n",
       "      <td>3.108240e+07</td>\n",
       "      <td>11209.000000</td>\n",
       "      <td>40.717707</td>\n",
       "      <td>-73.929810</td>\n",
       "      <td>0 days 02:40:05</td>\n",
       "    </tr>\n",
       "    <tr>\n",
       "      <th>75%</th>\n",
       "      <td>3.167769e+07</td>\n",
       "      <td>11238.000000</td>\n",
       "      <td>40.778624</td>\n",
       "      <td>-73.873072</td>\n",
       "      <td>0 days 05:13:55</td>\n",
       "    </tr>\n",
       "    <tr>\n",
       "      <th>max</th>\n",
       "      <td>3.231065e+07</td>\n",
       "      <td>11697.000000</td>\n",
       "      <td>40.912869</td>\n",
       "      <td>-73.700715</td>\n",
       "      <td>24 days 16:52:22</td>\n",
       "    </tr>\n",
       "  </tbody>\n",
       "</table>\n",
       "</div>"
      ],
      "text/plain": [
       "         Unique Key   Incident Zip       Latitude      Longitude  \\\n",
       "count  3.538910e+05  353891.000000  353891.000000  353891.000000   \n",
       "mean   3.106374e+07   10866.932143      40.724788     -73.924394   \n",
       "std    7.358240e+05     575.363214       0.082264       0.079395   \n",
       "min    2.960737e+07      83.000000      40.499040     -74.254937   \n",
       "25%    3.049097e+07   10451.000000      40.667971     -73.971468   \n",
       "50%    3.108240e+07   11209.000000      40.717707     -73.929810   \n",
       "75%    3.167769e+07   11238.000000      40.778624     -73.873072   \n",
       "max    3.231065e+07   11697.000000      40.912869     -73.700715   \n",
       "\n",
       "            Request_Closing_Time  \n",
       "count                     353891  \n",
       "mean   0 days 04:11:24.057729639  \n",
       "std    0 days 05:50:01.901604780  \n",
       "min              0 days 00:01:01  \n",
       "25%              0 days 01:15:31  \n",
       "50%              0 days 02:40:05  \n",
       "75%              0 days 05:13:55  \n",
       "max             24 days 16:52:22  "
      ]
     },
     "execution_count": 21,
     "metadata": {},
     "output_type": "execute_result"
    }
   ],
   "source": [
    "# applying describe on the dataset\n",
    "dataset.describe()"
   ]
  },
  {
   "cell_type": "code",
   "execution_count": 20,
   "id": "4703826d",
   "metadata": {
    "ExecuteTime": {
     "end_time": "2022-07-17T11:51:14.063959Z",
     "start_time": "2022-07-17T11:51:14.046040Z"
    }
   },
   "outputs": [
    {
     "data": {
      "text/plain": [
       "Index(['Unique Key', 'Created Date', 'Closed Date', 'Agency', 'Complaint Type',\n",
       "       'Descriptor', 'Location Type', 'Incident Zip', 'City',\n",
       "       'Resolution Description', 'Borough', 'Latitude', 'Longitude',\n",
       "       'Request_Closing_Time'],\n",
       "      dtype='object')"
      ]
     },
     "execution_count": 20,
     "metadata": {},
     "output_type": "execute_result"
    }
   ],
   "source": [
    "# viewing the columns\n",
    "dataset.columns"
   ]
  },
  {
   "cell_type": "code",
   "execution_count": 24,
   "id": "c54df409",
   "metadata": {
    "ExecuteTime": {
     "end_time": "2022-07-17T11:52:29.185929Z",
     "start_time": "2022-07-17T11:52:29.143043Z"
    }
   },
   "outputs": [
    {
     "data": {
      "text/plain": [
       "NYPD    353891\n",
       "Name: Agency, dtype: int64"
      ]
     },
     "execution_count": 24,
     "metadata": {},
     "output_type": "execute_result"
    }
   ],
   "source": [
    "# analysing Agency, Complaint Type, Descriptor, Location Type, City, Borough\n",
    "\n",
    "# All the complaints are under the same agency\n",
    "dataset['Agency'].value_counts()"
   ]
  },
  {
   "cell_type": "code",
   "execution_count": 25,
   "id": "b3469802",
   "metadata": {
    "ExecuteTime": {
     "end_time": "2022-07-17T11:52:40.089445Z",
     "start_time": "2022-07-17T11:52:40.050546Z"
    }
   },
   "outputs": [
    {
     "data": {
      "text/plain": [
       "Blocked Driveway            100455\n",
       "Illegal Parking              91057\n",
       "Noise - Street/Sidewalk      50791\n",
       "Noise - Commercial           43623\n",
       "Derelict Vehicle             21419\n",
       "Noise - Vehicle              19122\n",
       "Animal Abuse                 10500\n",
       "Traffic                       5161\n",
       "Vending                       4162\n",
       "Noise - Park                  3994\n",
       "Drinking                      1399\n",
       "Noise - House of Worship      1059\n",
       "Posting Advertisement          678\n",
       "Disorderly Youth               314\n",
       "Graffiti                       157\n",
       "Name: Complaint Type, dtype: int64"
      ]
     },
     "execution_count": 25,
     "metadata": {},
     "output_type": "execute_result"
    }
   ],
   "source": [
    "# complaint types\n",
    "dataset['Complaint Type'].value_counts()"
   ]
  },
  {
   "cell_type": "code",
   "execution_count": 26,
   "id": "28cfd7cf",
   "metadata": {
    "ExecuteTime": {
     "end_time": "2022-07-17T11:52:53.199110Z",
     "start_time": "2022-07-17T11:52:52.870986Z"
    }
   },
   "outputs": [
    {
     "data": {
      "text/plain": [
       "<AxesSubplot:title={'center':'Complaint Types'}, ylabel='Count'>"
      ]
     },
     "execution_count": 26,
     "metadata": {},
     "output_type": "execute_result"
    },
    {
     "data": {
      "image/png": "[encoded data removed]",
      "text/plain": [
       "<Figure size 1080x504 with 1 Axes>"
      ]
     },
     "metadata": {
      "needs_background": "light"
     },
     "output_type": "display_data"
    }
   ],
   "source": [
    "# plotting the complaint types\n",
    "dataset['Complaint Type'].value_counts().plot(kind = 'bar', figsize=(15, 7), title='Complaint Types', ylabel='Count', grid=True)"
   ]
  },
  {
   "cell_type": "code",
   "execution_count": 27,
   "id": "958cdd09",
   "metadata": {
    "ExecuteTime": {
     "end_time": "2022-07-17T11:53:18.303479Z",
     "start_time": "2022-07-17T11:53:18.269572Z"
    }
   },
   "outputs": [
    {
     "data": {
      "text/plain": [
       "No Access                         75590\n",
       "Loud Music/Party                  68668\n",
       "Posted Parking Sign Violation     26817\n",
       "Partial Access                    24865\n",
       "Loud Talking                      23458\n",
       "With License Plate                21419\n",
       "Blocked Hydrant                   19717\n",
       "Commercial Overnight Parking      14629\n",
       "Blocked Sidewalk                  13615\n",
       "Car/Truck Music                   11777\n",
       "Double Parked Blocking Traffic     6952\n",
       "Engine Idling                      5261\n",
       "Neglected                          5114\n",
       "Double Parked Blocking Vehicle     5082\n",
       "Banging/Pounding                   4876\n",
       "Car/Truck Horn                     4436\n",
       "Congestion/Gridlock                3208\n",
       "Other (complaint details)          2480\n",
       "In Prohibited Area                 2197\n",
       "Overnight Commercial Storage       2090\n",
       "Unlicensed                         1965\n",
       "Unauthorized Bus Layover           1579\n",
       "Truck Route Violation              1120\n",
       "Tortured                           1036\n",
       "In Public                           962\n",
       "No Shelter                          880\n",
       "Chained                             694\n",
       "Vehicle                             599\n",
       "Detached Trailer                    576\n",
       "Underage - Licensed Est             344\n",
       "Chronic Stoplight Violation         339\n",
       "Chronic Speeding                    304\n",
       "In Car                              296\n",
       "Playing in Unsuitable Place         272\n",
       "Drag Racing                         190\n",
       "Police Report Requested             122\n",
       "Loud Television                     113\n",
       "After Hours - Licensed Est           93\n",
       "Building                             79\n",
       "Nuisance/Truant                      42\n",
       "Police Report Not Requested          35\n",
       "Name: Descriptor, dtype: int64"
      ]
     },
     "execution_count": 27,
     "metadata": {},
     "output_type": "execute_result"
    }
   ],
   "source": [
    "# Blocked Driveway is the Maximum Complaint type followed by Illegal Parking, Noise-Street/Sidewalk, Noise-Commercial\n",
    "# Descriptors\n",
    "dataset['Descriptor'].value_counts()"
   ]
  },
  {
   "cell_type": "code",
   "execution_count": 28,
   "id": "b350aa98",
   "metadata": {
    "ExecuteTime": {
     "end_time": "2022-07-17T11:53:33.813136Z",
     "start_time": "2022-07-17T11:53:33.568788Z"
    }
   },
   "outputs": [
    {
     "data": {
      "text/plain": [
       "<AxesSubplot:title={'center':'Top 10 Descriptors'}>"
      ]
     },
     "execution_count": 28,
     "metadata": {},
     "output_type": "execute_result"
    },
    {
     "data": {
      "image/png": "[encoded data removed]",
      "text/plain": [
       "<Figure size 720x360 with 1 Axes>"
      ]
     },
     "metadata": {
      "needs_background": "light"
     },
     "output_type": "display_data"
    }
   ],
   "source": [
    "# plotting top 10 Descriptors\n",
    "dataset['Descriptor'].value_counts().head(10).plot(kind='barh', grid=True, figsize=(10,5), title='Top 10 Descriptors')"
   ]
  },
  {
   "cell_type": "code",
   "execution_count": 29,
   "id": "d0d3f36d",
   "metadata": {
    "ExecuteTime": {
     "end_time": "2022-07-17T11:53:49.890787Z",
     "start_time": "2022-07-17T11:53:49.843912Z"
    }
   },
   "outputs": [
    {
     "data": {
      "text/plain": [
       "Street/Sidewalk               294128\n",
       "Store/Commercial               24148\n",
       "Club/Bar/Restaurant            21306\n",
       "Residential Building/House      7466\n",
       "Park/Playground                 4336\n",
       "House of Worship                1059\n",
       "Residential Building             529\n",
       "House and Store                  245\n",
       "Highway                          242\n",
       "Parking Lot                      166\n",
       "Name: Location Type, dtype: int64"
      ]
     },
     "execution_count": 29,
     "metadata": {},
     "output_type": "execute_result"
    }
   ],
   "source": [
    "# Loud Music/Party is the maximum descriptor for the complaints followed by No Access, Posted Parking Sign Violation and Loud Taking.\n",
    "# Top 10 Location Type\n",
    "dataset['Location Type'].value_counts().head(10)"
   ]
  },
  {
   "cell_type": "code",
   "execution_count": 30,
   "id": "34e52a01",
   "metadata": {
    "ExecuteTime": {
     "end_time": "2022-07-17T11:54:49.511008Z",
     "start_time": "2022-07-17T11:54:49.295585Z"
    }
   },
   "outputs": [
    {
     "data": {
      "text/plain": [
       "<AxesSubplot:title={'center':'Top 10 Location Type'}>"
      ]
     },
     "execution_count": 30,
     "metadata": {},
     "output_type": "execute_result"
    },
    {
     "data": {
      "image/png": "[encoded data removed]",
      "text/plain": [
       "<Figure size 720x360 with 1 Axes>"
      ]
     },
     "metadata": {
      "needs_background": "light"
     },
     "output_type": "display_data"
    }
   ],
   "source": [
    "# plotting Top 10 Location Type\n",
    "dataset['Location Type'].value_counts().head(10).plot(kind='barh', grid=True, figsize=(10, 5), title='Top 10 Location Type')"
   ]
  },
  {
   "cell_type": "code",
   "execution_count": 31,
   "id": "0c38b962",
   "metadata": {
    "ExecuteTime": {
     "end_time": "2022-07-17T11:55:06.852930Z",
     "start_time": "2022-07-17T11:55:06.822012Z"
    }
   },
   "outputs": [
    {
     "data": {
      "text/plain": [
       "BROOKLYN         117268\n",
       "NEW YORK          72847\n",
       "BRONX             48640\n",
       "STATEN ISLAND     15191\n",
       "JAMAICA            8772\n",
       "ASTORIA            7910\n",
       "FLUSHING           7431\n",
       "RIDGEWOOD          6348\n",
       "CORONA             5346\n",
       "WOODSIDE           4300\n",
       "Name: City, dtype: int64"
      ]
     },
     "execution_count": 31,
     "metadata": {},
     "output_type": "execute_result"
    }
   ],
   "source": [
    "# Location Type of Street/Sidewalk is a lot more than any other members of its category\n",
    "# City\n",
    "dataset['City'].value_counts().head(10)"
   ]
  },
  {
   "cell_type": "code",
   "execution_count": 32,
   "id": "4aa594da",
   "metadata": {
    "ExecuteTime": {
     "end_time": "2022-07-17T11:55:15.658074Z",
     "start_time": "2022-07-17T11:55:15.467618Z"
    }
   },
   "outputs": [
    {
     "data": {
      "text/plain": [
       "Text(0.5, 0, 'Complaint Counts')"
      ]
     },
     "execution_count": 32,
     "metadata": {},
     "output_type": "execute_result"
    },
    {
     "data": {
      "image/png": "[encoded data removed]",
      "text/plain": [
       "<Figure size 720x360 with 1 Axes>"
      ]
     },
     "metadata": {
      "needs_background": "light"
     },
     "output_type": "display_data"
    }
   ],
   "source": [
    "# plotting the cities\n",
    "dataset['City'].value_counts().head(10).plot(kind='barh', grid=True, figsize=(10, 5), title='City Column', ylabel='Cities')\n",
    "plt.xlabel('Complaint Counts')"
   ]
  },
  {
   "cell_type": "code",
   "execution_count": 33,
   "id": "94fdffdb",
   "metadata": {
    "ExecuteTime": {
     "end_time": "2022-07-17T11:55:35.508349Z",
     "start_time": "2022-07-17T11:55:35.337817Z"
    }
   },
   "outputs": [
    {
     "data": {
      "text/plain": [
       "Text(0.5, 0, 'Complaint Counts')"
      ]
     },
     "execution_count": 33,
     "metadata": {},
     "output_type": "execute_result"
    },
    {
     "data": {
      "image/png": "[encoded data removed]",
      "text/plain": [
       "<Figure size 720x360 with 1 Axes>"
      ]
     },
     "metadata": {
      "needs_background": "light"
     },
     "output_type": "display_data"
    }
   ],
   "source": [
    "# most complaints are from BROOKLYN followed New York, Bronx, Staten Island in City wise\n",
    "# Borough\n",
    "dataset['Borough'].value_counts().head(10).plot(kind='barh', grid=True, figsize=(10, 5), title='Borough Column', ylabel='Borough')\n",
    "plt.xlabel('Complaint Counts')"
   ]
  },
  {
   "cell_type": "code",
   "execution_count": 34,
   "id": "cd90fdc5",
   "metadata": {
    "ExecuteTime": {
     "end_time": "2022-07-17T11:56:27.190407Z",
     "start_time": "2022-07-17T11:56:27.160488Z"
    }
   },
   "outputs": [
    {
     "data": {
      "text/plain": [
       "Index(['Blocked Driveway', 'Illegal Parking', 'Noise - Street/Sidewalk',\n",
       "       'Noise - Commercial', 'Derelict Vehicle', 'Noise - Vehicle'],\n",
       "      dtype='object')"
      ]
     },
     "execution_count": 34,
     "metadata": {},
     "output_type": "execute_result"
    }
   ],
   "source": [
    "# most complaints are from BROOKLYN followed Queens, Manhattan, Bronx and Staten Island in Borough wise\n",
    "\n",
    "# analyse Borough and Complaint Types\n",
    "\n",
    "# Top Complaints\n",
    "top_6_complaints = dataset['Complaint Type'].value_counts()[:6].keys()\n",
    "top_6_complaints\n"
   ]
  },
  {
   "cell_type": "code",
   "execution_count": 35,
   "id": "68a4d21e",
   "metadata": {
    "ExecuteTime": {
     "end_time": "2022-07-17T11:56:40.539329Z",
     "start_time": "2022-07-17T11:56:40.416623Z"
    }
   },
   "outputs": [
    {
     "data": {
      "text/html": [
       "<div>\n",
       "<style scoped>\n",
       "    .dataframe tbody tr th:only-of-type {\n",
       "        vertical-align: middle;\n",
       "    }\n",
       "\n",
       "    .dataframe tbody tr th {\n",
       "        vertical-align: top;\n",
       "    }\n",
       "\n",
       "    .dataframe thead th {\n",
       "        text-align: right;\n",
       "    }\n",
       "</style>\n",
       "<table border=\"1\" class=\"dataframe\">\n",
       "  <thead>\n",
       "    <tr style=\"text-align: right;\">\n",
       "      <th>Complaint Type</th>\n",
       "      <th>Blocked Driveway</th>\n",
       "      <th>Illegal Parking</th>\n",
       "      <th>Noise - Street/Sidewalk</th>\n",
       "      <th>Noise - Commercial</th>\n",
       "      <th>Derelict Vehicle</th>\n",
       "      <th>Noise - Vehicle</th>\n",
       "    </tr>\n",
       "    <tr>\n",
       "      <th>Borough</th>\n",
       "      <th></th>\n",
       "      <th></th>\n",
       "      <th></th>\n",
       "      <th></th>\n",
       "      <th></th>\n",
       "      <th></th>\n",
       "    </tr>\n",
       "  </thead>\n",
       "  <tbody>\n",
       "    <tr>\n",
       "      <th>BRONX</th>\n",
       "      <td>17048.0</td>\n",
       "      <td>9852.0</td>\n",
       "      <td>9116.0</td>\n",
       "      <td>2941.0</td>\n",
       "      <td>2398.0</td>\n",
       "      <td>3544.0</td>\n",
       "    </tr>\n",
       "    <tr>\n",
       "      <th>BROOKLYN</th>\n",
       "      <td>36414.0</td>\n",
       "      <td>33446.0</td>\n",
       "      <td>13942.0</td>\n",
       "      <td>13847.0</td>\n",
       "      <td>6243.0</td>\n",
       "      <td>5932.0</td>\n",
       "    </tr>\n",
       "    <tr>\n",
       "      <th>MANHATTAN</th>\n",
       "      <td>2686.0</td>\n",
       "      <td>14372.0</td>\n",
       "      <td>22186.0</td>\n",
       "      <td>18666.0</td>\n",
       "      <td>687.0</td>\n",
       "      <td>6178.0</td>\n",
       "    </tr>\n",
       "    <tr>\n",
       "      <th>QUEENS</th>\n",
       "      <td>41463.0</td>\n",
       "      <td>27168.0</td>\n",
       "      <td>4663.0</td>\n",
       "      <td>7386.0</td>\n",
       "      <td>9911.0</td>\n",
       "      <td>3045.0</td>\n",
       "    </tr>\n",
       "    <tr>\n",
       "      <th>STATEN ISLAND</th>\n",
       "      <td>2844.0</td>\n",
       "      <td>6218.0</td>\n",
       "      <td>884.0</td>\n",
       "      <td>783.0</td>\n",
       "      <td>2180.0</td>\n",
       "      <td>423.0</td>\n",
       "    </tr>\n",
       "    <tr>\n",
       "      <th>Unspecified</th>\n",
       "      <td>NaN</td>\n",
       "      <td>1.0</td>\n",
       "      <td>NaN</td>\n",
       "      <td>NaN</td>\n",
       "      <td>NaN</td>\n",
       "      <td>NaN</td>\n",
       "    </tr>\n",
       "  </tbody>\n",
       "</table>\n",
       "</div>"
      ],
      "text/plain": [
       "Complaint Type  Blocked Driveway  Illegal Parking  Noise - Street/Sidewalk  \\\n",
       "Borough                                                                      \n",
       "BRONX                    17048.0           9852.0                   9116.0   \n",
       "BROOKLYN                 36414.0          33446.0                  13942.0   \n",
       "MANHATTAN                 2686.0          14372.0                  22186.0   \n",
       "QUEENS                   41463.0          27168.0                   4663.0   \n",
       "STATEN ISLAND             2844.0           6218.0                    884.0   \n",
       "Unspecified                  NaN              1.0                      NaN   \n",
       "\n",
       "Complaint Type  Noise - Commercial  Derelict Vehicle  Noise - Vehicle  \n",
       "Borough                                                                \n",
       "BRONX                       2941.0            2398.0           3544.0  \n",
       "BROOKLYN                   13847.0            6243.0           5932.0  \n",
       "MANHATTAN                  18666.0             687.0           6178.0  \n",
       "QUEENS                      7386.0            9911.0           3045.0  \n",
       "STATEN ISLAND                783.0            2180.0            423.0  \n",
       "Unspecified                    NaN               NaN              NaN  "
      ]
     },
     "execution_count": 35,
     "metadata": {},
     "output_type": "execute_result"
    }
   ],
   "source": [
    "# Borough per Complaints\n",
    "borough_complaints = dataset.groupby(['Borough', 'Complaint Type']).size().unstack()\n",
    "borough_complaints = borough_complaints[top_6_complaints]\n",
    "borough_complaints"
   ]
  },
  {
   "cell_type": "code",
   "execution_count": 36,
   "id": "890bb7f5",
   "metadata": {
    "ExecuteTime": {
     "end_time": "2022-07-17T11:56:51.659270Z",
     "start_time": "2022-07-17T11:56:50.693886Z"
    }
   },
   "outputs": [
    {
     "data": {
      "image/png": "[encoded data removed]",
      "text/plain": [
       "<Figure size 864x576 with 6 Axes>"
      ]
     },
     "metadata": {
      "needs_background": "light"
     },
     "output_type": "display_data"
    }
   ],
   "source": [
    "# Plotting Borough per Complaint Type \n",
    "col_number = 2\n",
    "row_number = 3\n",
    "fig, axes = plt.subplots(row_number,col_number, figsize=(12,8))\n",
    "\n",
    "for i, (label,col) in enumerate(borough_complaints.iteritems()):\n",
    "    ax = axes[int(i/col_number), i%col_number]\n",
    "    col = col.sort_values(ascending=True)[:15]\n",
    "    col.plot(kind='barh', ax=ax, grid=True)\n",
    "    ax.set_title(label)\n",
    "    \n",
    "plt.tight_layout()"
   ]
  },
  {
   "cell_type": "code",
   "execution_count": null,
   "id": "50c090d2",
   "metadata": {},
   "outputs": [],
   "source": [
    "\"\"\"- Blocked Driveway is maximum in QUEENS\n",
    "- Illegal Parking is maximum in BROOKLYN\n",
    "- Noise - Street/Sidewalk is maximum in MANHATTAN\n",
    "- Noise - Commercial is maximum in MANHATTAN\n",
    "- Derelict Vehicle is maximum in QUEENS\n",
    "- Noise - Vehicle is maximum in QUEENS\"\"\""
   ]
  },
  {
   "cell_type": "code",
   "execution_count": 37,
   "id": "16fceb7e",
   "metadata": {
    "ExecuteTime": {
     "end_time": "2022-07-17T11:57:49.462658Z",
     "start_time": "2022-07-17T11:57:49.327051Z"
    }
   },
   "outputs": [
    {
     "data": {
      "text/html": [
       "<div>\n",
       "<style scoped>\n",
       "    .dataframe tbody tr th:only-of-type {\n",
       "        vertical-align: middle;\n",
       "    }\n",
       "\n",
       "    .dataframe tbody tr th {\n",
       "        vertical-align: top;\n",
       "    }\n",
       "\n",
       "    .dataframe thead th {\n",
       "        text-align: right;\n",
       "    }\n",
       "</style>\n",
       "<table border=\"1\" class=\"dataframe\">\n",
       "  <thead>\n",
       "    <tr style=\"text-align: right;\">\n",
       "      <th>Borough</th>\n",
       "      <th>BROOKLYN</th>\n",
       "      <th>QUEENS</th>\n",
       "      <th>MANHATTAN</th>\n",
       "      <th>BRONX</th>\n",
       "      <th>STATEN ISLAND</th>\n",
       "      <th>Unspecified</th>\n",
       "    </tr>\n",
       "    <tr>\n",
       "      <th>Complaint Type</th>\n",
       "      <th></th>\n",
       "      <th></th>\n",
       "      <th></th>\n",
       "      <th></th>\n",
       "      <th></th>\n",
       "      <th></th>\n",
       "    </tr>\n",
       "  </thead>\n",
       "  <tbody>\n",
       "    <tr>\n",
       "      <th>Animal Abuse</th>\n",
       "      <td>3185.0</td>\n",
       "      <td>2637.0</td>\n",
       "      <td>1926.0</td>\n",
       "      <td>1966.0</td>\n",
       "      <td>786.0</td>\n",
       "      <td>NaN</td>\n",
       "    </tr>\n",
       "    <tr>\n",
       "      <th>Blocked Driveway</th>\n",
       "      <td>36414.0</td>\n",
       "      <td>41463.0</td>\n",
       "      <td>2686.0</td>\n",
       "      <td>17048.0</td>\n",
       "      <td>2844.0</td>\n",
       "      <td>NaN</td>\n",
       "    </tr>\n",
       "    <tr>\n",
       "      <th>Derelict Vehicle</th>\n",
       "      <td>6243.0</td>\n",
       "      <td>9911.0</td>\n",
       "      <td>687.0</td>\n",
       "      <td>2398.0</td>\n",
       "      <td>2180.0</td>\n",
       "      <td>NaN</td>\n",
       "    </tr>\n",
       "    <tr>\n",
       "      <th>Disorderly Youth</th>\n",
       "      <td>79.0</td>\n",
       "      <td>64.0</td>\n",
       "      <td>80.0</td>\n",
       "      <td>66.0</td>\n",
       "      <td>25.0</td>\n",
       "      <td>NaN</td>\n",
       "    </tr>\n",
       "    <tr>\n",
       "      <th>Drinking</th>\n",
       "      <td>291.0</td>\n",
       "      <td>395.0</td>\n",
       "      <td>320.0</td>\n",
       "      <td>205.0</td>\n",
       "      <td>188.0</td>\n",
       "      <td>NaN</td>\n",
       "    </tr>\n",
       "    <tr>\n",
       "      <th>Graffiti</th>\n",
       "      <td>60.0</td>\n",
       "      <td>51.0</td>\n",
       "      <td>25.0</td>\n",
       "      <td>15.0</td>\n",
       "      <td>6.0</td>\n",
       "      <td>NaN</td>\n",
       "    </tr>\n",
       "    <tr>\n",
       "      <th>Illegal Parking</th>\n",
       "      <td>33446.0</td>\n",
       "      <td>27168.0</td>\n",
       "      <td>14372.0</td>\n",
       "      <td>9852.0</td>\n",
       "      <td>6218.0</td>\n",
       "      <td>1.0</td>\n",
       "    </tr>\n",
       "    <tr>\n",
       "      <th>Noise - Commercial</th>\n",
       "      <td>13847.0</td>\n",
       "      <td>7386.0</td>\n",
       "      <td>18666.0</td>\n",
       "      <td>2941.0</td>\n",
       "      <td>783.0</td>\n",
       "      <td>NaN</td>\n",
       "    </tr>\n",
       "    <tr>\n",
       "      <th>Noise - House of Worship</th>\n",
       "      <td>387.0</td>\n",
       "      <td>347.0</td>\n",
       "      <td>217.0</td>\n",
       "      <td>90.0</td>\n",
       "      <td>18.0</td>\n",
       "      <td>NaN</td>\n",
       "    </tr>\n",
       "    <tr>\n",
       "      <th>Noise - Park</th>\n",
       "      <td>1557.0</td>\n",
       "      <td>647.0</td>\n",
       "      <td>1200.0</td>\n",
       "      <td>523.0</td>\n",
       "      <td>67.0</td>\n",
       "      <td>NaN</td>\n",
       "    </tr>\n",
       "    <tr>\n",
       "      <th>Noise - Street/Sidewalk</th>\n",
       "      <td>13942.0</td>\n",
       "      <td>4663.0</td>\n",
       "      <td>22186.0</td>\n",
       "      <td>9116.0</td>\n",
       "      <td>884.0</td>\n",
       "      <td>NaN</td>\n",
       "    </tr>\n",
       "    <tr>\n",
       "      <th>Noise - Vehicle</th>\n",
       "      <td>5932.0</td>\n",
       "      <td>3045.0</td>\n",
       "      <td>6178.0</td>\n",
       "      <td>3544.0</td>\n",
       "      <td>423.0</td>\n",
       "      <td>NaN</td>\n",
       "    </tr>\n",
       "    <tr>\n",
       "      <th>Posting Advertisement</th>\n",
       "      <td>58.0</td>\n",
       "      <td>38.0</td>\n",
       "      <td>49.0</td>\n",
       "      <td>17.0</td>\n",
       "      <td>516.0</td>\n",
       "      <td>NaN</td>\n",
       "    </tr>\n",
       "    <tr>\n",
       "      <th>Traffic</th>\n",
       "      <td>1255.0</td>\n",
       "      <td>1507.0</td>\n",
       "      <td>1747.0</td>\n",
       "      <td>427.0</td>\n",
       "      <td>225.0</td>\n",
       "      <td>NaN</td>\n",
       "    </tr>\n",
       "    <tr>\n",
       "      <th>Vending</th>\n",
       "      <td>574.0</td>\n",
       "      <td>513.0</td>\n",
       "      <td>2619.0</td>\n",
       "      <td>431.0</td>\n",
       "      <td>25.0</td>\n",
       "      <td>NaN</td>\n",
       "    </tr>\n",
       "  </tbody>\n",
       "</table>\n",
       "</div>"
      ],
      "text/plain": [
       "Borough                   BROOKLYN   QUEENS  MANHATTAN    BRONX  \\\n",
       "Complaint Type                                                    \n",
       "Animal Abuse                3185.0   2637.0     1926.0   1966.0   \n",
       "Blocked Driveway           36414.0  41463.0     2686.0  17048.0   \n",
       "Derelict Vehicle            6243.0   9911.0      687.0   2398.0   \n",
       "Disorderly Youth              79.0     64.0       80.0     66.0   \n",
       "Drinking                     291.0    395.0      320.0    205.0   \n",
       "Graffiti                      60.0     51.0       25.0     15.0   \n",
       "Illegal Parking            33446.0  27168.0    14372.0   9852.0   \n",
       "Noise - Commercial         13847.0   7386.0    18666.0   2941.0   \n",
       "Noise - House of Worship     387.0    347.0      217.0     90.0   \n",
       "Noise - Park                1557.0    647.0     1200.0    523.0   \n",
       "Noise - Street/Sidewalk    13942.0   4663.0    22186.0   9116.0   \n",
       "Noise - Vehicle             5932.0   3045.0     6178.0   3544.0   \n",
       "Posting Advertisement         58.0     38.0       49.0     17.0   \n",
       "Traffic                     1255.0   1507.0     1747.0    427.0   \n",
       "Vending                      574.0    513.0     2619.0    431.0   \n",
       "\n",
       "Borough                   STATEN ISLAND  Unspecified  \n",
       "Complaint Type                                        \n",
       "Animal Abuse                      786.0          NaN  \n",
       "Blocked Driveway                 2844.0          NaN  \n",
       "Derelict Vehicle                 2180.0          NaN  \n",
       "Disorderly Youth                   25.0          NaN  \n",
       "Drinking                          188.0          NaN  \n",
       "Graffiti                            6.0          NaN  \n",
       "Illegal Parking                  6218.0          1.0  \n",
       "Noise - Commercial                783.0          NaN  \n",
       "Noise - House of Worship           18.0          NaN  \n",
       "Noise - Park                       67.0          NaN  \n",
       "Noise - Street/Sidewalk           884.0          NaN  \n",
       "Noise - Vehicle                   423.0          NaN  \n",
       "Posting Advertisement             516.0          NaN  \n",
       "Traffic                           225.0          NaN  \n",
       "Vending                            25.0          NaN  "
      ]
     },
     "execution_count": 37,
     "metadata": {},
     "output_type": "execute_result"
    }
   ],
   "source": [
    "# similarly for Complaints per Borough\n",
    "top_borough = dataset['Borough'].value_counts().keys()\n",
    "\n",
    "complaint_per_borough = dataset.groupby(['Complaint Type', 'Borough']).size().unstack()\n",
    "complaint_per_borough = complaint_per_borough[top_borough]\n",
    "complaint_per_borough"
   ]
  },
  {
   "cell_type": "code",
   "execution_count": 38,
   "id": "0f5983b7",
   "metadata": {
    "ExecuteTime": {
     "end_time": "2022-07-17T11:58:00.597034Z",
     "start_time": "2022-07-17T11:57:59.259611Z"
    }
   },
   "outputs": [
    {
     "data": {
      "image/png": "[encoded data removed]",
      "text/plain": [
       "<Figure size 864x720 with 6 Axes>"
      ]
     },
     "metadata": {
      "needs_background": "light"
     },
     "output_type": "display_data"
    }
   ],
   "source": [
    "# Plotting Complaints per Borough\n",
    "col_number = 2\n",
    "row_number = 3\n",
    "fig, axes = plt.subplots(row_number,col_number, figsize=(12,10))\n",
    "\n",
    "for i, (label,col) in enumerate(complaint_per_borough.iteritems()):\n",
    "    ax = axes[int(i/col_number), i%col_number]\n",
    "    col = col.sort_values(ascending=True)[:15]\n",
    "    col.plot(kind='barh', ax=ax, grid=True)\n",
    "    ax.set_title(label)\n",
    "    \n",
    "plt.tight_layout()"
   ]
  },
  {
   "cell_type": "code",
   "execution_count": null,
   "id": "da65f4eb",
   "metadata": {},
   "outputs": [],
   "source": [
    "\"\"\"- BROOKLYN, QUEENS and BRONX has most complaints of Blocked Driveway.\n",
    "- MANHATTAN has most complaints of Noise - Street/Sidewalk.\n",
    "- STATEN ISLAND has most complaints of Illegal Parking.\"\"\""
   ]
  },
  {
   "cell_type": "code",
   "execution_count": 39,
   "id": "a6fb78ca",
   "metadata": {
    "ExecuteTime": {
     "end_time": "2022-07-17T11:58:42.045509Z",
     "start_time": "2022-07-17T11:58:41.998641Z"
    }
   },
   "outputs": [
    {
     "data": {
      "text/html": [
       "<div>\n",
       "<style scoped>\n",
       "    .dataframe tbody tr th:only-of-type {\n",
       "        vertical-align: middle;\n",
       "    }\n",
       "\n",
       "    .dataframe tbody tr th {\n",
       "        vertical-align: top;\n",
       "    }\n",
       "\n",
       "    .dataframe thead th {\n",
       "        text-align: right;\n",
       "    }\n",
       "</style>\n",
       "<table border=\"1\" class=\"dataframe\">\n",
       "  <thead>\n",
       "    <tr style=\"text-align: right;\">\n",
       "      <th></th>\n",
       "      <th>Request_Closing_Time</th>\n",
       "      <th>Request_Closing_Time_in_Hours</th>\n",
       "    </tr>\n",
       "  </thead>\n",
       "  <tbody>\n",
       "    <tr>\n",
       "      <th>0</th>\n",
       "      <td>0 days 00:55:30</td>\n",
       "      <td>1.0</td>\n",
       "    </tr>\n",
       "    <tr>\n",
       "      <th>1</th>\n",
       "      <td>0 days 01:27:13</td>\n",
       "      <td>2.0</td>\n",
       "    </tr>\n",
       "    <tr>\n",
       "      <th>2</th>\n",
       "      <td>0 days 04:51:34</td>\n",
       "      <td>5.0</td>\n",
       "    </tr>\n",
       "    <tr>\n",
       "      <th>3</th>\n",
       "      <td>0 days 07:45:27</td>\n",
       "      <td>8.0</td>\n",
       "    </tr>\n",
       "    <tr>\n",
       "      <th>4</th>\n",
       "      <td>0 days 03:27:44</td>\n",
       "      <td>4.0</td>\n",
       "    </tr>\n",
       "    <tr>\n",
       "      <th>5</th>\n",
       "      <td>0 days 01:53:41</td>\n",
       "      <td>2.0</td>\n",
       "    </tr>\n",
       "    <tr>\n",
       "      <th>6</th>\n",
       "      <td>0 days 01:58:22</td>\n",
       "      <td>2.0</td>\n",
       "    </tr>\n",
       "    <tr>\n",
       "      <th>7</th>\n",
       "      <td>0 days 01:48:49</td>\n",
       "      <td>2.0</td>\n",
       "    </tr>\n",
       "    <tr>\n",
       "      <th>8</th>\n",
       "      <td>0 days 08:33:34</td>\n",
       "      <td>9.0</td>\n",
       "    </tr>\n",
       "    <tr>\n",
       "      <th>9</th>\n",
       "      <td>0 days 01:23:42</td>\n",
       "      <td>2.0</td>\n",
       "    </tr>\n",
       "    <tr>\n",
       "      <th>10</th>\n",
       "      <td>0 days 07:48:40</td>\n",
       "      <td>8.0</td>\n",
       "    </tr>\n",
       "    <tr>\n",
       "      <th>11</th>\n",
       "      <td>0 days 11:07:11</td>\n",
       "      <td>12.0</td>\n",
       "    </tr>\n",
       "    <tr>\n",
       "      <th>12</th>\n",
       "      <td>0 days 02:29:56</td>\n",
       "      <td>3.0</td>\n",
       "    </tr>\n",
       "    <tr>\n",
       "      <th>13</th>\n",
       "      <td>0 days 08:30:49</td>\n",
       "      <td>9.0</td>\n",
       "    </tr>\n",
       "    <tr>\n",
       "      <th>14</th>\n",
       "      <td>0 days 10:29:45</td>\n",
       "      <td>11.0</td>\n",
       "    </tr>\n",
       "    <tr>\n",
       "      <th>15</th>\n",
       "      <td>0 days 15:33:27</td>\n",
       "      <td>16.0</td>\n",
       "    </tr>\n",
       "    <tr>\n",
       "      <th>16</th>\n",
       "      <td>0 days 04:52:39</td>\n",
       "      <td>5.0</td>\n",
       "    </tr>\n",
       "    <tr>\n",
       "      <th>17</th>\n",
       "      <td>0 days 00:51:18</td>\n",
       "      <td>1.0</td>\n",
       "    </tr>\n",
       "    <tr>\n",
       "      <th>18</th>\n",
       "      <td>0 days 02:56:29</td>\n",
       "      <td>3.0</td>\n",
       "    </tr>\n",
       "    <tr>\n",
       "      <th>19</th>\n",
       "      <td>0 days 00:47:36</td>\n",
       "      <td>1.0</td>\n",
       "    </tr>\n",
       "  </tbody>\n",
       "</table>\n",
       "</div>"
      ],
      "text/plain": [
       "   Request_Closing_Time  Request_Closing_Time_in_Hours\n",
       "0       0 days 00:55:30                            1.0\n",
       "1       0 days 01:27:13                            2.0\n",
       "2       0 days 04:51:34                            5.0\n",
       "3       0 days 07:45:27                            8.0\n",
       "4       0 days 03:27:44                            4.0\n",
       "5       0 days 01:53:41                            2.0\n",
       "6       0 days 01:58:22                            2.0\n",
       "7       0 days 01:48:49                            2.0\n",
       "8       0 days 08:33:34                            9.0\n",
       "9       0 days 01:23:42                            2.0\n",
       "10      0 days 07:48:40                            8.0\n",
       "11      0 days 11:07:11                           12.0\n",
       "12      0 days 02:29:56                            3.0\n",
       "13      0 days 08:30:49                            9.0\n",
       "14      0 days 10:29:45                           11.0\n",
       "15      0 days 15:33:27                           16.0\n",
       "16      0 days 04:52:39                            5.0\n",
       "17      0 days 00:51:18                            1.0\n",
       "18      0 days 02:56:29                            3.0\n",
       "19      0 days 00:47:36                            1.0"
      ]
     },
     "execution_count": 39,
     "metadata": {},
     "output_type": "execute_result"
    }
   ],
   "source": [
    "# Creating a column Request_Closing_Time_in_Hours for time in Hours\n",
    "# and we will say the said complaint has been closed under x hours\n",
    "dataset['Request_Closing_Time_in_Hours'] = dataset['Request_Closing_Time'].astype('timedelta64[h]')+1\n",
    "\n",
    "# viewing the Two columns side by side for first 20 entries\n",
    "dataset[['Request_Closing_Time', 'Request_Closing_Time_in_Hours']].head(20)"
   ]
  },
  {
   "cell_type": "code",
   "execution_count": 40,
   "id": "53f3f2c1",
   "metadata": {
    "ExecuteTime": {
     "end_time": "2022-07-17T11:58:52.314379Z",
     "start_time": "2022-07-17T11:58:52.192704Z"
    }
   },
   "outputs": [
    {
     "data": {
      "text/plain": [
       "City     Complaint Type          \n",
       "ARVERNE  Animal Abuse                2.826087\n",
       "         Blocked Driveway            2.800000\n",
       "         Derelict Vehicle            3.625000\n",
       "         Disorderly Youth            4.000000\n",
       "         Drinking                    1.000000\n",
       "         Graffiti                    2.000000\n",
       "         Illegal Parking             2.822581\n",
       "         Noise - Commercial          3.000000\n",
       "         Noise - House of Worship    2.357143\n",
       "         Noise - Park                1.500000\n",
       "Name: Request_Closing_Time_in_Hours, dtype: float64"
      ]
     },
     "execution_count": 40,
     "metadata": {},
     "output_type": "execute_result"
    }
   ],
   "source": [
    "#  Ordering the complaint types based on the average ‘Request_Closing_Time’ in Hours, grouping them for different locations.\n",
    "data_avg_time_in_hrs = dataset.groupby(['City', 'Complaint Type'])['Request_Closing_Time_in_Hours'].mean()\n",
    "data_avg_time_in_hrs.head(10)"
   ]
  },
  {
   "cell_type": "code",
   "execution_count": 41,
   "id": "0c9a4ea8",
   "metadata": {
    "ExecuteTime": {
     "end_time": "2022-07-17T11:59:09.232106Z",
     "start_time": "2022-07-17T11:59:09.166285Z"
    }
   },
   "outputs": [
    {
     "data": {
      "text/html": [
       "<div>\n",
       "<style scoped>\n",
       "    .dataframe tbody tr th:only-of-type {\n",
       "        vertical-align: middle;\n",
       "    }\n",
       "\n",
       "    .dataframe tbody tr th {\n",
       "        vertical-align: top;\n",
       "    }\n",
       "\n",
       "    .dataframe thead th {\n",
       "        text-align: right;\n",
       "    }\n",
       "</style>\n",
       "<table border=\"1\" class=\"dataframe\">\n",
       "  <thead>\n",
       "    <tr style=\"text-align: right;\">\n",
       "      <th></th>\n",
       "      <th>Request_Closing_Time</th>\n",
       "      <th>Request_Closing_Time_in_Hours</th>\n",
       "      <th>Request_Closing_Time_in_Seconds</th>\n",
       "    </tr>\n",
       "  </thead>\n",
       "  <tbody>\n",
       "    <tr>\n",
       "      <th>0</th>\n",
       "      <td>0 days 00:55:30</td>\n",
       "      <td>1.0</td>\n",
       "      <td>3330.0</td>\n",
       "    </tr>\n",
       "    <tr>\n",
       "      <th>1</th>\n",
       "      <td>0 days 01:27:13</td>\n",
       "      <td>2.0</td>\n",
       "      <td>5233.0</td>\n",
       "    </tr>\n",
       "    <tr>\n",
       "      <th>2</th>\n",
       "      <td>0 days 04:51:34</td>\n",
       "      <td>5.0</td>\n",
       "      <td>17494.0</td>\n",
       "    </tr>\n",
       "    <tr>\n",
       "      <th>3</th>\n",
       "      <td>0 days 07:45:27</td>\n",
       "      <td>8.0</td>\n",
       "      <td>27927.0</td>\n",
       "    </tr>\n",
       "    <tr>\n",
       "      <th>4</th>\n",
       "      <td>0 days 03:27:44</td>\n",
       "      <td>4.0</td>\n",
       "      <td>12464.0</td>\n",
       "    </tr>\n",
       "  </tbody>\n",
       "</table>\n",
       "</div>"
      ],
      "text/plain": [
       "  Request_Closing_Time  Request_Closing_Time_in_Hours  \\\n",
       "0      0 days 00:55:30                            1.0   \n",
       "1      0 days 01:27:13                            2.0   \n",
       "2      0 days 04:51:34                            5.0   \n",
       "3      0 days 07:45:27                            8.0   \n",
       "4      0 days 03:27:44                            4.0   \n",
       "\n",
       "   Request_Closing_Time_in_Seconds  \n",
       "0                           3330.0  \n",
       "1                           5233.0  \n",
       "2                          17494.0  \n",
       "3                          27927.0  \n",
       "4                          12464.0  "
      ]
     },
     "execution_count": 41,
     "metadata": {},
     "output_type": "execute_result"
    }
   ],
   "source": [
    "# Creating a column Request_Closing_Time_in_Seconds for time in seconds\n",
    "dataset['Request_Closing_Time_in_Seconds'] = dataset['Request_Closing_Time'].astype('timedelta64[s]')\n",
    "\n",
    "# viewing the Three columns side by side\n",
    "dataset[['Request_Closing_Time', 'Request_Closing_Time_in_Hours','Request_Closing_Time_in_Seconds']].head()"
   ]
  },
  {
   "cell_type": "code",
   "execution_count": 42,
   "id": "d4c5dafc",
   "metadata": {
    "ExecuteTime": {
     "end_time": "2022-07-17T11:59:19.759437Z",
     "start_time": "2022-07-17T11:59:19.641752Z"
    }
   },
   "outputs": [
    {
     "data": {
      "text/plain": [
       "City     Complaint Type          \n",
       "ARVERNE  Animal Abuse                 8399.195652\n",
       "         Blocked Driveway             8318.840000\n",
       "         Derelict Vehicle            11394.000000\n",
       "         Disorderly Youth            12928.500000\n",
       "         Drinking                      859.000000\n",
       "         Graffiti                     5508.000000\n",
       "         Illegal Parking              8406.080645\n",
       "         Noise - Commercial           8234.000000\n",
       "         Noise - House of Worship     6653.428571\n",
       "         Noise - Park                 4638.000000\n",
       "Name: Request_Closing_Time_in_Seconds, dtype: float64"
      ]
     },
     "execution_count": 42,
     "metadata": {},
     "output_type": "execute_result"
    }
   ],
   "source": [
    "#  Order the complaint types based on the average ‘Request_Closing_Time’ in seconds, grouping them for different locations.\n",
    "data_avg_in_seconds = dataset.groupby(['City', 'Complaint Type']).Request_Closing_Time_in_Seconds.mean()\n",
    "data_avg_in_seconds.head(10)"
   ]
  },
  {
   "cell_type": "code",
   "execution_count": 43,
   "id": "0cc9f93b",
   "metadata": {
    "ExecuteTime": {
     "end_time": "2022-07-17T11:59:29.485912Z",
     "start_time": "2022-07-17T11:59:29.441031Z"
    }
   },
   "outputs": [
    {
     "data": {
      "text/plain": [
       "count                       353891\n",
       "mean     0 days 04:11:24.057729639\n",
       "std      0 days 05:50:01.901604780\n",
       "min                0 days 00:01:01\n",
       "25%                0 days 01:15:31\n",
       "50%                0 days 02:40:05\n",
       "75%                0 days 05:13:55\n",
       "max               24 days 16:52:22\n",
       "Name: Request_Closing_Time, dtype: object"
      ]
     },
     "execution_count": 43,
     "metadata": {},
     "output_type": "execute_result"
    }
   ],
   "source": [
    "# lets analyse the Request_Closing_Time\n",
    "dataset['Request_Closing_Time'].describe()"
   ]
  },
  {
   "cell_type": "code",
   "execution_count": 44,
   "id": "365f7ba2",
   "metadata": {
    "ExecuteTime": {
     "end_time": "2022-07-17T11:59:42.947941Z",
     "start_time": "2022-07-17T11:59:42.937968Z"
    }
   },
   "outputs": [
    {
     "name": "stdout",
     "output_type": "stream",
     "text": [
      "The mean hours is 4.70 hours and mean Secondsis 15084.06 seconds\n",
      "The standard hours is 5.84 hours and standard Seconds is 21001.90 seconds\n"
     ]
    }
   ],
   "source": [
    "# Taking the mean and Standard\n",
    "mean_hrs = dataset['Request_Closing_Time_in_Hours'].mean()\n",
    "std_hrs = dataset['Request_Closing_Time_in_Hours'].std()\n",
    "\n",
    "mean_seconds = dataset['Request_Closing_Time_in_Seconds'].mean()\n",
    "std_seconds = dataset['Request_Closing_Time_in_Seconds'].std()\n",
    "\n",
    "print('The mean hours is {0:.2f} hours and mean Secondsis {1:.2f} seconds'.format(mean_hrs, mean_seconds))\n",
    "print('The standard hours is {0:.2f} hours and standard Seconds is {1:.2f} seconds'.format(std_hrs, std_seconds))"
   ]
  },
  {
   "cell_type": "code",
   "execution_count": 45,
   "id": "6fe749e2",
   "metadata": {
    "ExecuteTime": {
     "end_time": "2022-07-17T12:00:01.684904Z",
     "start_time": "2022-07-17T11:59:58.770700Z"
    }
   },
   "outputs": [
    {
     "data": {
      "text/plain": [
       "array(['2015-12', '2015-11', '2015-10', '2015-09', '2015-08', '2015-07',\n",
       "       '2015-06', '2015-05', '2015-04', '2015-03', '2015-02', '2015-01'],\n",
       "      dtype=object)"
      ]
     },
     "execution_count": 45,
     "metadata": {},
     "output_type": "execute_result"
    }
   ],
   "source": [
    "# for analysing on the basis of month we will need to separate months from Created Date column\n",
    "dataset['Year-Month'] = dataset['Created Date'].apply(lambda x:datetime.datetime.strftime(x, '%Y-%m'))\n",
    "\n",
    "# viewing the months that we have in our dataset\n",
    "dataset['Year-Month'].unique()"
   ]
  },
  {
   "cell_type": "code",
   "execution_count": 47,
   "id": "93b0d326",
   "metadata": {
    "ExecuteTime": {
     "end_time": "2022-07-17T12:00:56.383822Z",
     "start_time": "2022-07-17T12:00:56.189340Z"
    }
   },
   "outputs": [
    {
     "data": {
      "image/png": "[encoded data removed]",
      "text/plain": [
       "<Figure size 864x360 with 1 Axes>"
      ]
     },
     "metadata": {
      "needs_background": "light"
     },
     "output_type": "display_data"
    }
   ],
   "source": [
    "# plotting the month column\n",
    "#dataset['Year-Month'].value_counts().plot()\n",
    "monthly_incidents =  dataset.groupby('Year-Month').size().plot(figsize=(12,5),\n",
    "                     title='Incident Counts on a monthly basis', ylabel='Counts')"
   ]
  },
  {
   "cell_type": "code",
   "execution_count": 48,
   "id": "3dc0ef10",
   "metadata": {
    "ExecuteTime": {
     "end_time": "2022-07-17T12:01:12.164569Z",
     "start_time": "2022-07-17T12:01:11.884316Z"
    }
   },
   "outputs": [
    {
     "data": {
      "text/plain": [
       "<matplotlib.legend.Legend at 0x1fd96aefee0>"
      ]
     },
     "execution_count": 48,
     "metadata": {},
     "output_type": "execute_result"
    },
    {
     "data": {
      "image/png": "[encoded data removed]",
      "text/plain": [
       "<Figure size 1080x504 with 1 Axes>"
      ]
     },
     "metadata": {
      "needs_background": "light"
     },
     "output_type": "display_data"
    }
   ],
   "source": [
    "# plotting Borough on the basis of Year-Month\n",
    "dataset.groupby(['Year-Month','Borough']).size().unstack().plot(figsize=(15,7))\n",
    "plt.legend(loc='center left', bbox_to_anchor=(1.0, 0.5))"
   ]
  },
  {
   "cell_type": "code",
   "execution_count": 49,
   "id": "0de2e5d3",
   "metadata": {
    "ExecuteTime": {
     "end_time": "2022-07-17T12:01:26.143898Z",
     "start_time": "2022-07-17T12:01:26.130932Z"
    }
   },
   "outputs": [],
   "source": [
    "# BROOKLYN raised most cases all over and most of them were raised in MAY-JUNE and SEPTEMBER."
   ]
  },
  {
   "cell_type": "code",
   "execution_count": 50,
   "id": "6a65ee17",
   "metadata": {
    "ExecuteTime": {
     "end_time": "2022-07-17T12:01:35.457206Z",
     "start_time": "2022-07-17T12:01:35.151055Z"
    }
   },
   "outputs": [
    {
     "data": {
      "text/plain": [
       "<matplotlib.legend.Legend at 0x1fd948f7400>"
      ]
     },
     "execution_count": 50,
     "metadata": {},
     "output_type": "execute_result"
    },
    {
     "data": {
      "image/png": "[encoded data removed]",
      "text/plain": [
       "<Figure size 1080x504 with 1 Axes>"
      ]
     },
     "metadata": {
      "needs_background": "light"
     },
     "output_type": "display_data"
    }
   ],
   "source": [
    "# Plotting Year-Month on the basis of Borough\n",
    "dataset.groupby(['Borough', 'Year-Month']).size().unstack().plot(figsize=(15,7))\n",
    "plt.legend(loc='center left', bbox_to_anchor=(1.0, 0.5))"
   ]
  },
  {
   "cell_type": "code",
   "execution_count": 51,
   "id": "b4542445",
   "metadata": {
    "ExecuteTime": {
     "end_time": "2022-07-17T12:02:25.083501Z",
     "start_time": "2022-07-17T12:02:24.856141Z"
    }
   },
   "outputs": [
    {
     "data": {
      "image/png": "[encoded data removed]",
      "text/plain": [
       "<Figure size 1080x504 with 1 Axes>"
      ]
     },
     "metadata": {
      "needs_background": "light"
     },
     "output_type": "display_data"
    }
   ],
   "source": [
    "# DECEMBER has raised least complaints.\n",
    "\n",
    "# Processing time per Borough on a monthly basis\n",
    "dataset.groupby(['Year-Month','Borough'])['Request_Closing_Time_in_Hours'].mean().unstack().plot(figsize=(15,7),\n",
    "             title='Processing time per Borough on a monthly basis');"
   ]
  },
  {
   "cell_type": "code",
   "execution_count": 52,
   "id": "e58dbb66",
   "metadata": {
    "ExecuteTime": {
     "end_time": "2022-07-17T12:02:37.434976Z",
     "start_time": "2022-07-17T12:02:37.426997Z"
    }
   },
   "outputs": [],
   "source": [
    "# BRONX has the maximum Processing time every month even though it has the least complaints."
   ]
  },
  {
   "cell_type": "code",
   "execution_count": 53,
   "id": "62e5b496",
   "metadata": {
    "ExecuteTime": {
     "end_time": "2022-07-17T12:03:40.776457Z",
     "start_time": "2022-07-17T12:03:40.761498Z"
    }
   },
   "outputs": [
    {
     "data": {
      "text/plain": [
       "Index(['Unique Key', 'Created Date', 'Closed Date', 'Agency', 'Complaint Type',\n",
       "       'Descriptor', 'Location Type', 'Incident Zip', 'City',\n",
       "       'Resolution Description', 'Borough', 'Latitude', 'Longitude',\n",
       "       'Request_Closing_Time', 'Request_Closing_Time_in_Hours',\n",
       "       'Request_Closing_Time_in_Seconds', 'Year-Month'],\n",
       "      dtype='object')"
      ]
     },
     "execution_count": 53,
     "metadata": {},
     "output_type": "execute_result"
    }
   ],
   "source": [
    "# Statistical Tests\n",
    "\n",
    "# a. Whether the average response time across complaint types is similar or not (overall)\n",
    "#  b. Are the type of complaint or service requested and location related?\n",
    "\n",
    "# viewing the columns\n",
    "dataset.columns"
   ]
  },
  {
   "cell_type": "code",
   "execution_count": 54,
   "id": "ccfdd1b7",
   "metadata": {
    "ExecuteTime": {
     "end_time": "2022-07-17T12:03:56.118681Z",
     "start_time": "2022-07-17T12:03:56.047870Z"
    }
   },
   "outputs": [
    {
     "data": {
      "text/plain": [
       "Complaint Type\n",
       "Posting Advertisement        7287.171091\n",
       "Noise - Commercial          11042.455562\n",
       "Noise - House of Worship    11410.395656\n",
       "Noise - Park                12196.250125\n",
       "Noise - Street/Sidewalk     12219.275836\n",
       "Traffic                     12324.517729\n",
       "Disorderly Youth            12395.754777\n",
       "Noise - Vehicle             12586.495921\n",
       "Drinking                    13805.907791\n",
       "Vending                     14355.265738\n",
       "Illegal Parking             15582.870960\n",
       "Blocked Driveway            16217.841222\n",
       "Animal Abuse                18052.146476\n",
       "Graffiti                    23276.343949\n",
       "Derelict Vehicle            25281.668519\n",
       "Name: Request_Closing_Time_in_Seconds, dtype: float64"
      ]
     },
     "execution_count": 54,
     "metadata": {},
     "output_type": "execute_result"
    }
   ],
   "source": [
    "# the average response time in seconds for different complaint types\n",
    "avg_response_time = dataset.groupby(['Complaint Type']).Request_Closing_Time_in_Seconds.mean().sort_values(ascending=True)\n",
    "avg_response_time"
   ]
  },
  {
   "cell_type": "code",
   "execution_count": 55,
   "id": "b8e36998",
   "metadata": {
    "ExecuteTime": {
     "end_time": "2022-07-17T12:04:55.189432Z",
     "start_time": "2022-07-17T12:04:55.177462Z"
    }
   },
   "outputs": [
    {
     "data": {
      "text/plain": [
       "'Null Hypothesis -->> Average response time across complaint types is similar(overall).\\nAlternate Hypothesis -->> Average response time across complaint types is not similar(overall).\\n-- We can say that for overall case our NULL HYPOTHESIS is rejected as the Average Response Time in Seconds for different complaint types is different\\n\\nTesting for our Hypothesis\\nBelow We conduct ANOVA (Analysis of Variance) test for top 5 type of complaints\\n\\nFor a 95% of confidence interval we choose our alpha as 0.05 for 5%\\n\\nAlpha(0.05) is the critical p-value, if our calculated p-value is less than alpha, it will give us strong evidence to reject Null Hypothesis. >\\n\\nif p < alpha(0.05) : Reject Null Hypothesis, Average response time for all the complaints type is not same.\\n\\nif p > alpha(0.05) : Fail to reject Null Hypothesis, Average response time for all the complaints type is same.'"
      ]
     },
     "execution_count": 55,
     "metadata": {},
     "output_type": "execute_result"
    }
   ],
   "source": [
    "\"\"\"Null Hypothesis -->> Average response time across complaint types is similar(overall).\n",
    "Alternate Hypothesis -->> Average response time across complaint types is not similar(overall).\n",
    "-- We can say that for overall case our NULL HYPOTHESIS is rejected as the Average Response Time in Seconds for different complaint types is different\n",
    "\n",
    "Testing for our Hypothesis\n",
    "Below We conduct ANOVA (Analysis of Variance) test for top 5 type of complaints\n",
    "\n",
    "For a 95% of confidence interval we choose our alpha as 0.05 for 5%\n",
    "\n",
    "Alpha(0.05) is the critical p-value, if our calculated p-value is less than alpha, it will give us strong evidence to reject Null Hypothesis. >\n",
    "\n",
    "if p < alpha(0.05) : Reject Null Hypothesis, Average response time for all the complaints type is not same.\n",
    "\n",
    "if p > alpha(0.05) : Fail to reject Null Hypothesis, Average response time for all the complaints type is same.\"\"\""
   ]
  },
  {
   "cell_type": "code",
   "execution_count": 56,
   "id": "d4abdc7a",
   "metadata": {
    "ExecuteTime": {
     "end_time": "2022-07-17T12:05:07.877333Z",
     "start_time": "2022-07-17T12:05:07.413139Z"
    }
   },
   "outputs": [],
   "source": [
    "# to calculate the p-value log of time taken to close the complaint per complaint is taken\n",
    "data = {}\n",
    "for complaint in dataset['Complaint Type'].unique():\n",
    "    data[complaint] = np.log(dataset[dataset['Complaint Type']==complaint]['Request_Closing_Time_in_Seconds'])"
   ]
  },
  {
   "cell_type": "code",
   "execution_count": 57,
   "id": "005daf5b",
   "metadata": {
    "ExecuteTime": {
     "end_time": "2022-07-17T12:05:16.565009Z",
     "start_time": "2022-07-17T12:05:16.558028Z"
    }
   },
   "outputs": [
    {
     "data": {
      "text/plain": [
       "dict_keys(['Noise - Street/Sidewalk', 'Blocked Driveway', 'Illegal Parking', 'Derelict Vehicle', 'Noise - Commercial', 'Noise - House of Worship', 'Posting Advertisement', 'Noise - Vehicle', 'Animal Abuse', 'Vending', 'Traffic', 'Drinking', 'Noise - Park', 'Graffiti', 'Disorderly Youth'])"
      ]
     },
     "execution_count": 57,
     "metadata": {},
     "output_type": "execute_result"
    }
   ],
   "source": [
    "data.keys()"
   ]
  },
  {
   "cell_type": "code",
   "execution_count": 58,
   "id": "c37d3966",
   "metadata": {
    "ExecuteTime": {
     "end_time": "2022-07-17T12:05:27.955738Z",
     "start_time": "2022-07-17T12:05:27.932803Z"
    }
   },
   "outputs": [
    {
     "name": "stdout",
     "output_type": "stream",
     "text": [
      "1.1034427280147607\n",
      "0.9648261559192306\n",
      "1.0738575188820025\n",
      "1.245203115675724\n",
      "1.090608674238199\n",
      "1.172620812248639\n",
      "1.2260912326229831\n",
      "1.0794238937664062\n",
      "1.0365715966358422\n",
      "1.1142976575019128\n",
      "1.1833906044565492\n",
      "1.0489006100091247\n",
      "1.1208177221382025\n",
      "1.0093473489139964\n",
      "1.0340128244025917\n"
     ]
    }
   ],
   "source": [
    "for complaint in data.keys():\n",
    "    print(data[complaint].std())"
   ]
  },
  {
   "cell_type": "code",
   "execution_count": 59,
   "id": "5049382d",
   "metadata": {
    "ExecuteTime": {
     "end_time": "2022-07-17T12:05:40.477419Z",
     "start_time": "2022-07-17T12:05:40.452485Z"
    }
   },
   "outputs": [
    {
     "name": "stdout",
     "output_type": "stream",
     "text": [
      "Statistics= 2811.335, p = 0.000\n",
      "We have Different distributions (reject H0)\n"
     ]
    }
   ],
   "source": [
    "# importing f_oneway from scipy.stats library\n",
    "from scipy.stats import f_oneway\n",
    "# taking top 5 complaints\n",
    "stat, p = f_oneway(data['Blocked Driveway'], data['Illegal Parking'], data['Noise - Street/Sidewalk'],\n",
    "                   data['Derelict Vehicle'], data['Noise - Commercial'])\n",
    "print('Statistics= %.3f, p = %.3f' % (stat, p))\n",
    "# interpret\n",
    "alpha = 0.05\n",
    "if p > alpha:\n",
    "    print('Same distributions (fail to reject H0)')\n",
    "else:\n",
    "    print('We have Different distributions (reject H0)')"
   ]
  },
  {
   "cell_type": "code",
   "execution_count": 60,
   "id": "84e881da",
   "metadata": {
    "ExecuteTime": {
     "end_time": "2022-07-17T12:06:09.494336Z",
     "start_time": "2022-07-17T12:06:09.489353Z"
    }
   },
   "outputs": [],
   "source": [
    "# As our p-value is quite low , hence it is being converted to 0.0\n",
    "\n",
    "# Since our p-value is lower than our critical p-value, we will conclude that we have enough evidence to reject our Null Hypothesis and that is:\n",
    "\n",
    "# Average response time for all the complaints type is not same."
   ]
  },
  {
   "cell_type": "code",
   "execution_count": 61,
   "id": "329773fb",
   "metadata": {
    "ExecuteTime": {
     "end_time": "2022-07-17T12:06:41.019026Z",
     "start_time": "2022-07-17T12:06:40.853467Z"
    }
   },
   "outputs": [
    {
     "data": {
      "text/html": [
       "<div>\n",
       "<style scoped>\n",
       "    .dataframe tbody tr th:only-of-type {\n",
       "        vertical-align: middle;\n",
       "    }\n",
       "\n",
       "    .dataframe tbody tr th {\n",
       "        vertical-align: top;\n",
       "    }\n",
       "\n",
       "    .dataframe thead th {\n",
       "        text-align: right;\n",
       "    }\n",
       "</style>\n",
       "<table border=\"1\" class=\"dataframe\">\n",
       "  <thead>\n",
       "    <tr style=\"text-align: right;\">\n",
       "      <th>Complaint Type</th>\n",
       "      <th>Animal Abuse</th>\n",
       "      <th>Blocked Driveway</th>\n",
       "      <th>Derelict Vehicle</th>\n",
       "      <th>Disorderly Youth</th>\n",
       "      <th>Drinking</th>\n",
       "      <th>Graffiti</th>\n",
       "      <th>Illegal Parking</th>\n",
       "      <th>Noise - Commercial</th>\n",
       "      <th>Noise - House of Worship</th>\n",
       "      <th>Noise - Park</th>\n",
       "      <th>Noise - Street/Sidewalk</th>\n",
       "      <th>Noise - Vehicle</th>\n",
       "      <th>Posting Advertisement</th>\n",
       "      <th>Traffic</th>\n",
       "      <th>Vending</th>\n",
       "    </tr>\n",
       "    <tr>\n",
       "      <th>City</th>\n",
       "      <th></th>\n",
       "      <th></th>\n",
       "      <th></th>\n",
       "      <th></th>\n",
       "      <th></th>\n",
       "      <th></th>\n",
       "      <th></th>\n",
       "      <th></th>\n",
       "      <th></th>\n",
       "      <th></th>\n",
       "      <th></th>\n",
       "      <th></th>\n",
       "      <th></th>\n",
       "      <th></th>\n",
       "      <th></th>\n",
       "    </tr>\n",
       "  </thead>\n",
       "  <tbody>\n",
       "    <tr>\n",
       "      <th>ARVERNE</th>\n",
       "      <td>46</td>\n",
       "      <td>50</td>\n",
       "      <td>32</td>\n",
       "      <td>2</td>\n",
       "      <td>1</td>\n",
       "      <td>1</td>\n",
       "      <td>62</td>\n",
       "      <td>2</td>\n",
       "      <td>14</td>\n",
       "      <td>2</td>\n",
       "      <td>29</td>\n",
       "      <td>9</td>\n",
       "      <td>0</td>\n",
       "      <td>1</td>\n",
       "      <td>1</td>\n",
       "    </tr>\n",
       "    <tr>\n",
       "      <th>ASTORIA</th>\n",
       "      <td>170</td>\n",
       "      <td>3436</td>\n",
       "      <td>426</td>\n",
       "      <td>5</td>\n",
       "      <td>43</td>\n",
       "      <td>4</td>\n",
       "      <td>1337</td>\n",
       "      <td>1640</td>\n",
       "      <td>21</td>\n",
       "      <td>64</td>\n",
       "      <td>408</td>\n",
       "      <td>236</td>\n",
       "      <td>3</td>\n",
       "      <td>60</td>\n",
       "      <td>57</td>\n",
       "    </tr>\n",
       "    <tr>\n",
       "      <th>Astoria</th>\n",
       "      <td>0</td>\n",
       "      <td>159</td>\n",
       "      <td>14</td>\n",
       "      <td>0</td>\n",
       "      <td>0</td>\n",
       "      <td>0</td>\n",
       "      <td>277</td>\n",
       "      <td>310</td>\n",
       "      <td>0</td>\n",
       "      <td>0</td>\n",
       "      <td>145</td>\n",
       "      <td>0</td>\n",
       "      <td>0</td>\n",
       "      <td>0</td>\n",
       "      <td>0</td>\n",
       "    </tr>\n",
       "    <tr>\n",
       "      <th>BAYSIDE</th>\n",
       "      <td>53</td>\n",
       "      <td>513</td>\n",
       "      <td>231</td>\n",
       "      <td>2</td>\n",
       "      <td>1</td>\n",
       "      <td>3</td>\n",
       "      <td>635</td>\n",
       "      <td>47</td>\n",
       "      <td>3</td>\n",
       "      <td>3</td>\n",
       "      <td>17</td>\n",
       "      <td>24</td>\n",
       "      <td>0</td>\n",
       "      <td>9</td>\n",
       "      <td>2</td>\n",
       "    </tr>\n",
       "    <tr>\n",
       "      <th>BELLEROSE</th>\n",
       "      <td>15</td>\n",
       "      <td>138</td>\n",
       "      <td>120</td>\n",
       "      <td>2</td>\n",
       "      <td>1</td>\n",
       "      <td>0</td>\n",
       "      <td>131</td>\n",
       "      <td>38</td>\n",
       "      <td>1</td>\n",
       "      <td>1</td>\n",
       "      <td>13</td>\n",
       "      <td>11</td>\n",
       "      <td>1</td>\n",
       "      <td>9</td>\n",
       "      <td>0</td>\n",
       "    </tr>\n",
       "  </tbody>\n",
       "</table>\n",
       "</div>"
      ],
      "text/plain": [
       "Complaint Type  Animal Abuse  Blocked Driveway  Derelict Vehicle  \\\n",
       "City                                                               \n",
       "ARVERNE                   46                50                32   \n",
       "ASTORIA                  170              3436               426   \n",
       "Astoria                    0               159                14   \n",
       "BAYSIDE                   53               513               231   \n",
       "BELLEROSE                 15               138               120   \n",
       "\n",
       "Complaint Type  Disorderly Youth  Drinking  Graffiti  Illegal Parking  \\\n",
       "City                                                                    \n",
       "ARVERNE                        2         1         1               62   \n",
       "ASTORIA                        5        43         4             1337   \n",
       "Astoria                        0         0         0              277   \n",
       "BAYSIDE                        2         1         3              635   \n",
       "BELLEROSE                      2         1         0              131   \n",
       "\n",
       "Complaint Type  Noise - Commercial  Noise - House of Worship  Noise - Park  \\\n",
       "City                                                                         \n",
       "ARVERNE                          2                        14             2   \n",
       "ASTORIA                       1640                        21            64   \n",
       "Astoria                        310                         0             0   \n",
       "BAYSIDE                         47                         3             3   \n",
       "BELLEROSE                       38                         1             1   \n",
       "\n",
       "Complaint Type  Noise - Street/Sidewalk  Noise - Vehicle  \\\n",
       "City                                                       \n",
       "ARVERNE                              29                9   \n",
       "ASTORIA                             408              236   \n",
       "Astoria                             145                0   \n",
       "BAYSIDE                              17               24   \n",
       "BELLEROSE                            13               11   \n",
       "\n",
       "Complaint Type  Posting Advertisement  Traffic  Vending  \n",
       "City                                                     \n",
       "ARVERNE                             0        1        1  \n",
       "ASTORIA                             3       60       57  \n",
       "Astoria                             0        0        0  \n",
       "BAYSIDE                             0        9        2  \n",
       "BELLEROSE                           1        9        0  "
      ]
     },
     "execution_count": 61,
     "metadata": {},
     "output_type": "execute_result"
    }
   ],
   "source": [
    "# relation between Complaint Type and Location\n",
    "# we will use Crosstab and Chi-square Test\n",
    "\n",
    "# getting crosstab from pandas\n",
    "city_type = pd.crosstab(dataset['City'], dataset['Complaint Type'])\n",
    "# viewing first 5 entries of city_type\n",
    "city_type.head()"
   ]
  },
  {
   "cell_type": "code",
   "execution_count": 62,
   "id": "36a252ef",
   "metadata": {
    "ExecuteTime": {
     "end_time": "2022-07-17T12:06:52.040616Z",
     "start_time": "2022-07-17T12:06:52.027652Z"
    }
   },
   "outputs": [],
   "source": [
    "# contigency table\n",
    "table = city_type \n",
    "# table -->> The contingency table. The table contains the observed frequencies (i.e. number of occurrences) in each category.\n",
    "# stat -->> chi2 or Test Statistic\n",
    "# p -->> The p-value of the Test\n",
    "# dof -->> Degrees of Freedom\n",
    "# expected -->> The expected frequencies, based on the marginal sums of the table.\n",
    "stat, p, dof, expected = chi2_contingency(table)"
   ]
  },
  {
   "cell_type": "code",
   "execution_count": 63,
   "id": "554fede8",
   "metadata": {
    "ExecuteTime": {
     "end_time": "2022-07-17T12:07:00.648880Z",
     "start_time": "2022-07-17T12:07:00.615967Z"
    }
   },
   "outputs": [
    {
     "name": "stdout",
     "output_type": "stream",
     "text": [
      "The Degrees of Freedom are : 728\n",
      "The P-Value of the Testing is 0.0: \n",
      "Expected values : \n",
      "\n",
      "[[7.47687847e+00 7.15323645e+01 1.52521200e+01 2.23594271e-01\n",
      "  9.96205046e-01 1.11797135e-01 6.48402022e+01 3.10632257e+01\n",
      "  7.54096600e-01 2.84406215e+00 3.61674414e+01 1.36164638e+01\n",
      "  4.82792724e-01 3.67506379e+00 2.96369221e+00]\n",
      " [2.34690908e+02 2.24532144e+03 4.78747100e+02 7.01837571e+00\n",
      "  3.12697695e+01 3.50918786e+00 2.03526190e+03 9.75040139e+02\n",
      "  2.36702544e+01 8.92719510e+01 1.13525580e+03 4.27405670e+02\n",
      "  1.51543272e+01 1.15356169e+02 9.30270055e+01]\n",
      " [2.68514882e+01 2.56892023e+02 5.47744786e+01 8.02987361e-01\n",
      "  3.57764114e+00 4.01493680e-01 2.32858663e+02 1.11556426e+02\n",
      "  2.70816438e+00 1.02137946e+01 1.29887041e+02 4.89003959e+01\n",
      "  1.73383895e+00 1.31981458e+01 1.06434185e+01]\n",
      " [4.57810456e+01 4.37993803e+02 9.33889729e+01 1.36907127e+00\n",
      "  6.09977931e+00 6.84535634e-01 3.97017587e+02 1.90200624e+02\n",
      "  4.61734545e+00 1.74142377e+01 2.21453818e+02 8.33738241e+01\n",
      "  2.95614751e+00 2.25024739e+01 1.81467344e+01]\n",
      " [1.42713434e+01 1.36535981e+02 2.91121814e+01 4.26781128e-01\n",
      "  1.90148662e+00 2.13390564e-01 1.23762449e+02 5.92913157e+01\n",
      "  1.43936692e+00 5.42854721e+00 6.90338861e+01 2.59901552e+01\n",
      "  9.21521033e-01 7.01470509e+00 5.65688870e+00]\n",
      " [9.19774733e-01 8.79961627e+00 1.87625286e+00 2.75056444e-02\n",
      "  1.22549033e-01 1.37528222e-02 7.97637408e+00 3.82126983e+00\n",
      "  9.27658516e-02 3.49864789e-01 4.44916938e+00 1.67504118e+00\n",
      "  5.93911685e-02 4.52091181e-01 3.64581185e-01]\n",
      " [1.44315623e+03 1.38068818e+04 2.94390126e+03 4.31572433e+01\n",
      "  1.92283387e+02 2.15786217e+01 1.25151882e+04 5.99569562e+03\n",
      "  1.45552614e+02 5.48949140e+02 6.98089027e+03 2.62819365e+03\n",
      "  9.31866592e+01 7.09345646e+02 5.72039639e+02]\n",
      " [3.47935946e+03 3.32875290e+04 7.09756194e+03 1.04049416e+02\n",
      "  4.63583228e+02 5.20247082e+01 3.01733366e+04 1.44552474e+04\n",
      "  3.50918254e+02 1.32348207e+03 1.68304901e+04 6.33641063e+03\n",
      "  2.24667211e+02 1.71018802e+03 1.37915182e+03]\n",
      " [1.80987931e+01 1.73153739e+02 3.69198143e+01 5.41240099e-01\n",
      "  2.41144872e+00 2.70620050e-01 1.56954458e+02 7.51927288e+01\n",
      "  1.82539256e+00 6.88443617e+00 8.75481716e+01 3.29604878e+01\n",
      "  1.16866493e+00 8.89598775e+00 7.17401686e+00]\n",
      " [3.26371679e+00 3.12244448e+01 6.65767143e+00 9.76006737e-02\n",
      "  4.34851409e-01 4.88003368e-02 2.83032629e+01 1.35593445e+01\n",
      "  3.29169151e-01 1.24145570e+00 1.57873752e+01 5.94369453e+00\n",
      "  2.10742856e-01 1.60419451e+00 1.29367517e+00]\n",
      " [4.56920351e+01 4.37142227e+02 9.32074000e+01 1.36640943e+00\n",
      "  6.08791973e+00 6.83204716e-01 3.96245680e+02 1.89830824e+02\n",
      "  4.60836811e+00 1.73803798e+01 2.21023253e+02 8.32117234e+01\n",
      "  2.95039998e+00 2.24587232e+01 1.81114524e+01]\n",
      " [1.58616636e+02 1.51750802e+03 3.23562831e+02 4.74339274e+00\n",
      "  2.11337785e+01 2.37169637e+00 1.37553858e+03 6.58984145e+02\n",
      "  1.59976207e+01 6.03347471e+01 7.67266435e+02 2.88863554e+02\n",
      "  1.02421028e+01 7.79638533e+01 6.28726133e+01]\n",
      " [1.05240032e+02 1.00684642e+03 2.14679641e+02 3.14717809e+00\n",
      "  1.40219813e+01 1.57358904e+00 9.12651576e+02 4.37227228e+02\n",
      "  1.06142089e+01 4.00313034e+01 5.09071090e+02 1.91657132e+02\n",
      "  6.79549918e+00 5.17279812e+01 4.17151439e+01]\n",
      " [1.00492807e+02 9.61429042e+02 2.04995756e+02 3.00521347e+00\n",
      "  1.33894702e+01 1.50260673e+00 8.71483194e+02 4.17504545e+02\n",
      "  1.01354174e+01 3.82255497e+01 4.86107635e+02 1.83011758e+02\n",
      "  6.48896412e+00 4.93946074e+01 3.98334346e+01]\n",
      " [8.90104580e-01 8.51575768e+00 1.81572857e+00 2.66183655e-02\n",
      "  1.18595839e-01 1.33091828e-02 7.71907169e+00 3.69800306e+00\n",
      "  8.97734048e-02 3.38578828e-01 4.30564778e+00 1.62100760e+00\n",
      "  5.74753243e-02 4.37507594e-01 3.52820501e-01]\n",
      " [4.09151405e+01 3.91440995e+02 8.34629900e+01 1.22355754e+00\n",
      "  5.45145539e+00 6.11778768e-01 3.54819995e+02 1.69984874e+02\n",
      "  4.12658417e+00 1.55633401e+01 1.97916276e+02 7.45123159e+01\n",
      "  2.64194907e+00 2.01107657e+01 1.62179824e+01]\n",
      " [5.81534992e+00 5.56362835e+01 1.18627600e+01 1.73906655e-01\n",
      "  7.74826147e-01 8.69533274e-02 5.04312684e+01 2.41602866e+01\n",
      "  5.86519578e-01 2.21204834e+00 2.81302322e+01 1.05905830e+01\n",
      "  3.75505452e-01 2.85838295e+00 2.30509394e+00]\n",
      " [2.20478905e+02 2.10935318e+03 4.49755967e+02 6.59336914e+00\n",
      "  2.93761893e+01 3.29668457e+00 1.91201406e+03 9.15995357e+02\n",
      "  2.22368724e+01 8.38659757e+01 1.06650896e+03 4.01523582e+02\n",
      "  1.42366378e+01 1.08370631e+02 8.73936382e+01]\n",
      " [6.19216086e+01 5.92412876e+02 1.26314184e+02 1.85175096e+00\n",
      "  8.25031719e+00 9.25875481e-01 5.36990087e+02 2.57257746e+02\n",
      "  6.24523653e+00 2.35538005e+01 2.99529564e+02 1.12768095e+02\n",
      "  3.99836673e+00 3.04359450e+01 2.45445462e+01]\n",
      " [7.23655024e+01 6.92331099e+02 1.47618733e+02 2.16407312e+00\n",
      "  9.64184170e+00 1.08203656e+00 6.27560529e+02 3.00647649e+02\n",
      "  7.29857781e+00 2.75264587e+01 3.50049165e+02 1.31787918e+02\n",
      "  4.67274387e+00 3.55693674e+01 2.86843067e+01]\n",
      " [1.06515848e+01 1.01905234e+02 2.17282186e+01 3.18533108e-01\n",
      "  1.41919687e+00 1.59266554e-01 9.23715579e+01 4.42527699e+01\n",
      "  1.07428841e+00 4.05165997e+00 5.15242518e+01 1.93980576e+01\n",
      "  6.87788048e-01 5.23550754e+00 4.22208533e+00]\n",
      " [3.61085758e+01 3.45455903e+02 7.36580557e+01 1.07981836e+00\n",
      "  4.81103786e+00 5.39909181e-01 3.13137008e+02 1.50015657e+02\n",
      "  3.64180779e+00 1.37350145e+01 1.74665778e+02 6.57588749e+01\n",
      "  2.33158232e+00 1.77482247e+01 1.43127517e+01]\n",
      " [3.35866128e+01 3.21327923e+02 6.85134914e+01 1.00439966e+00\n",
      "  4.47501632e+00 5.02199830e-01 2.91266305e+02 1.39537982e+02\n",
      "  3.38744981e+00 1.27757078e+01 1.62466443e+02 6.11660200e+01\n",
      "  2.16873557e+00 1.65086199e+01 1.33130936e+01]\n",
      " [2.96701527e-02 2.83858589e-01 6.05242857e-02 8.87278851e-04\n",
      "  3.95319463e-03 4.43639426e-04 2.57302390e-01 1.23266769e-01\n",
      "  2.99244683e-03 1.12859609e-02 1.43521593e-01 5.40335866e-02\n",
      "  1.91584414e-03 1.45835865e-02 1.17606834e-02]\n",
      " [6.19216086e+01 5.92412876e+02 1.26314184e+02 1.85175096e+00\n",
      "  8.25031719e+00 9.25875481e-01 5.36990087e+02 2.57257746e+02\n",
      "  6.24523653e+00 2.35538005e+01 2.99529564e+02 1.12768095e+02\n",
      "  3.99836673e+00 3.04359450e+01 2.45445462e+01]\n",
      " [2.60266579e+02 2.49000754e+03 5.30919034e+02 7.78321008e+00\n",
      "  3.46774233e+01 3.89160504e+00 2.25705656e+03 1.08129609e+03\n",
      "  2.62497436e+01 9.90004493e+01 1.25897141e+03 4.73982622e+02\n",
      "  1.68057848e+01 1.27927221e+02 1.03164715e+02]\n",
      " [2.96701527e+01 2.83858589e+02 6.05242857e+01 8.87278851e-01\n",
      "  3.95319463e+00 4.43639426e-01 2.57302390e+02 1.23266769e+02\n",
      "  2.99244683e+00 1.12859609e+01 1.43521593e+02 5.40335866e+01\n",
      "  1.91584414e+00 1.45835865e+01 1.17606834e+01]\n",
      " [2.10954786e+01 2.01823457e+02 4.30327672e+01 6.30855263e-01\n",
      "  2.81072138e+00 3.15427632e-01 1.82941999e+02 8.76426725e+01\n",
      "  2.12762969e+00 8.02431822e+00 1.02043852e+02 3.84178801e+01\n",
      "  1.36216519e+00 1.03689300e+01 8.36184588e+00]\n",
      " [8.89807879e+01 8.51291909e+02 1.81512333e+02 2.66094928e+00\n",
      "  1.18556307e+01 1.33047464e+00 7.71649867e+02 3.69677039e+02\n",
      "  8.97434803e+00 3.38465968e+01 4.30421257e+02 1.62046726e+02\n",
      "  5.74561659e+00 4.37361758e+01 3.52702894e+01]\n",
      " [5.04392595e+00 4.82559602e+01 1.02891286e+01 1.50837405e-01\n",
      "  6.72043087e-01 7.54187024e-02 4.37414063e+01 2.09553507e+01\n",
      "  5.08715961e-01 1.91861336e+00 2.43986708e+01 9.18570972e+00\n",
      "  3.25693504e-01 2.47920970e+00 1.99931617e+00]\n",
      " [9.19774733e+01 8.79961627e+02 1.87625286e+02 2.75056444e+00\n",
      "  1.22549033e+01 1.37528222e+00 7.97637408e+02 3.82126983e+02\n",
      "  9.27658516e+00 3.49864789e+01 4.44916938e+02 1.67504118e+02\n",
      "  5.93911685e+00 4.52091181e+01 3.64581185e+01]\n",
      " [6.77666287e+01 6.48333018e+02 1.38237469e+02 2.02654490e+00\n",
      "  9.02909653e+00 1.01327245e+00 5.87678658e+02 2.81541299e+02\n",
      "  6.83474855e+00 2.57771348e+01 3.27803318e+02 1.23412712e+02\n",
      "  4.37578803e+00 3.33089115e+01 2.68614008e+01]\n",
      " [3.76810939e+00 3.60500408e+01 7.68658429e+00 1.12684414e-01\n",
      "  5.02055718e-01 5.63422071e-02 3.26774035e+01 1.56548796e+01\n",
      "  3.80040747e-01 1.43331704e+00 1.82272423e+01 6.86226550e+00\n",
      "  2.43312206e-01 1.85211548e+00 1.49360679e+00]\n",
      " [2.16138161e+03 2.06782466e+04 4.40901264e+03 6.46356025e+01\n",
      "  2.87978369e+02 3.23178012e+01 1.87437072e+04 8.97961429e+03\n",
      "  2.17990774e+02 8.22148396e+02 1.04551175e+04 3.93618468e+03\n",
      "  1.39563498e+02 1.06237052e+03 8.56730502e+02]\n",
      " [2.11251487e+01 2.02107316e+02 4.30932914e+01 6.31742542e-01\n",
      "  2.81467457e+00 3.15871271e-01 1.83199301e+02 8.77659392e+01\n",
      "  2.13062214e+00 8.03560418e+00 1.02187374e+02 3.84719137e+01\n",
      "  1.36408103e+00 1.03835136e+01 8.37360656e+00]\n",
      " [1.01531262e+02 9.71364092e+02 2.07114106e+02 3.03626823e+00\n",
      "  1.35278320e+01 1.51813411e+00 8.80488778e+02 4.21818882e+02\n",
      "  1.02401530e+01 3.86205583e+01 4.91130891e+02 1.84902933e+02\n",
      "  6.55601866e+00 4.99050329e+01 4.02450585e+01]\n",
      " [9.79115038e-01 9.36733344e+00 1.99730143e+00 2.92802021e-02\n",
      "  1.30455423e-01 1.46401010e-02 8.49097886e+00 4.06780336e+00\n",
      "  9.87507453e-02 3.72436711e-01 4.73621256e+00 1.78310836e+00\n",
      "  6.32228568e-02 4.81258354e-01 3.88102551e-01]\n",
      " [6.58974091e+01 6.30449927e+02 1.34424439e+02 1.97064633e+00\n",
      "  8.78004527e+00 9.85323164e-01 5.71468608e+02 2.73775493e+02\n",
      "  6.64622440e+00 2.50661192e+01 3.18761458e+02 1.20008596e+02\n",
      "  4.25508984e+00 3.23901456e+01 2.61204778e+01]\n",
      " [5.33469345e+01 5.10377743e+02 1.08822666e+02 1.59532737e+00\n",
      "  7.10784394e+00 7.97663687e-01 4.62629697e+02 2.21633650e+02\n",
      "  5.38041939e+00 2.02921578e+01 2.58051824e+02 9.71523887e+01\n",
      "  3.44468777e+00 2.62212885e+01 2.11457087e+01]\n",
      " [6.80633302e+01 6.51171604e+02 1.38842711e+02 2.03541769e+00\n",
      "  9.06862848e+00 1.01770884e+00 5.90251682e+02 2.82773967e+02\n",
      "  6.86467302e+00 2.58899944e+01 3.29238534e+02 1.23953048e+02\n",
      "  4.39494647e+00 3.34547474e+01 2.69790077e+01]\n",
      " [1.88346129e+02 1.80193432e+03 3.84208166e+02 5.63244615e+00\n",
      "  2.50948795e+01 2.81622307e+00 1.63335557e+03 7.82497447e+02\n",
      "  1.89960525e+01 7.16432800e+01 9.11075071e+02 3.43005208e+02\n",
      "  1.21617786e+01 9.25766069e+01 7.46568181e+01]\n",
      " [2.44482058e+01 2.33899478e+02 4.98720114e+01 7.31117774e-01\n",
      "  3.25743237e+00 3.65558887e-01 2.12017169e+02 1.01571817e+02\n",
      "  2.46577619e+00 9.29963181e+00 1.18261792e+02 4.45236754e+01\n",
      "  1.57865557e+00 1.20168753e+01 9.69080310e+00]\n",
      " [3.20734350e+01 3.06851135e+02 6.54267529e+01 9.59148438e-01\n",
      "  4.27340339e+00 4.79574219e-01 2.78143883e+02 1.33251377e+02\n",
      "  3.23483502e+00 1.22001238e+01 1.55146842e+02 5.84103071e+01\n",
      "  2.07102752e+00 1.57648570e+01 1.27132987e+01]\n",
      " [3.07086080e+01 2.93793640e+02 6.26426357e+01 9.18333611e-01\n",
      "  4.09155644e+00 4.59166806e-01 2.66307973e+02 1.27581105e+02\n",
      "  3.09718247e+00 1.16809696e+01 1.48544849e+02 5.59247621e+01\n",
      "  1.98289869e+00 1.50940120e+01 1.21723073e+01]\n",
      " [7.88929360e+01 7.54779989e+02 1.60934076e+02 2.35927447e+00\n",
      "  1.05115445e+01 1.17963723e+00 6.84167054e+02 3.27766338e+02\n",
      "  7.95691611e+00 3.00093701e+01 3.81623915e+02 1.43675307e+02\n",
      "  5.09422958e+00 3.87777564e+01 3.12716571e+01]\n",
      " [1.01293901e+02 9.69093224e+02 2.06629911e+02 3.02917000e+00\n",
      "  1.34962065e+01 1.51458500e+00 8.78430359e+02 4.20832748e+02\n",
      "  1.02162135e+01 3.85302706e+01 4.89982718e+02 1.84470665e+02\n",
      "  6.54069191e+00 4.97883642e+01 4.01509730e+01]\n",
      " [3.20437649e+01 3.06567276e+02 6.53662286e+01 9.58261160e-01\n",
      "  4.26945020e+00 4.79130580e-01 2.77886581e+02 1.33128110e+02\n",
      "  3.23184257e+00 1.21888378e+01 1.55003320e+02 5.83562735e+01\n",
      "  2.06911168e+00 1.57502734e+01 1.27015380e+01]\n",
      " [4.50719289e+02 4.31209583e+03 9.19424424e+02 1.34786530e+01\n",
      "  6.00529796e+01 6.73932652e+00 3.90868060e+03 1.87254548e+03\n",
      "  4.54582597e+01 1.71445033e+02 2.18023652e+03 8.20824214e+02\n",
      "  2.91035884e+01 2.21539262e+02 1.78656541e+02]\n",
      " [2.75339017e+01 2.63420771e+02 5.61665372e+01 8.23394774e-01\n",
      "  3.66856461e+00 4.11697387e-01 2.38776618e+02 1.14391561e+02\n",
      "  2.77699066e+00 1.04733717e+01 1.33188038e+02 5.01431684e+01\n",
      "  1.77790337e+00 1.35335682e+01 1.09139142e+01]\n",
      " [4.04107479e+01 3.86615399e+02 8.24340772e+01 1.20847380e+00\n",
      "  5.38425108e+00 6.04236898e-01 3.50445855e+02 1.67889339e+02\n",
      "  4.07571258e+00 1.53714788e+01 1.95476409e+02 7.35937450e+01\n",
      "  2.60937972e+00 1.98628448e+01 1.60180508e+01]\n",
      " [9.15324210e+01 8.75703748e+02 1.86717421e+02 2.73725526e+00\n",
      "  1.21956054e+01 1.36862763e+00 7.93777872e+02 3.80277981e+02\n",
      "  9.23169846e+00 3.48171895e+01 4.42764114e+02 1.66693615e+02\n",
      "  5.91037918e+00 4.49903643e+01 3.62817082e+01]\n",
      " [1.27581656e+02 1.22059193e+03 2.60254429e+02 3.81529906e+00\n",
      "  1.69987369e+01 1.90764953e+00 1.10640028e+03 5.30047105e+02\n",
      "  1.28675214e+01 4.85296320e+01 6.17142849e+02 2.32344422e+02\n",
      "  8.23812982e+00 6.27094218e+01 5.05709385e+01]\n",
      " [4.92524534e+00 4.71205258e+01 1.00470314e+01 1.47288289e-01\n",
      "  6.56230308e-01 7.36441447e-02 4.27121967e+01 2.04622836e+01\n",
      "  4.96746173e-01 1.87346951e+00 2.38245844e+01 8.96957538e+00\n",
      "  3.18030128e-01 2.42087535e+00 1.95227344e+00]]\n"
     ]
    }
   ],
   "source": [
    "print('The Degrees of Freedom are : {}'. format(dof))\n",
    "print('The P-Value of the Testing is {}: '.format(p))\n",
    "print('Expected values : \\n')\n",
    "print(expected)"
   ]
  },
  {
   "cell_type": "code",
   "execution_count": 64,
   "id": "20dd286a",
   "metadata": {
    "ExecuteTime": {
     "end_time": "2022-07-17T12:07:15.078147Z",
     "start_time": "2022-07-17T12:07:15.056206Z"
    }
   },
   "outputs": [
    {
     "data": {
      "text/plain": [
       "791.8799091140163"
      ]
     },
     "execution_count": 64,
     "metadata": {},
     "output_type": "execute_result"
    }
   ],
   "source": [
    "# interpreting test statistics\n",
    "prob = 0.95 # as aplha is considered 0.05\n",
    "critical_value = chi2.ppf(prob, dof)\n",
    "critical_value"
   ]
  },
  {
   "cell_type": "code",
   "execution_count": 65,
   "id": "a477e034",
   "metadata": {
    "ExecuteTime": {
     "end_time": "2022-07-17T12:07:28.168532Z",
     "start_time": "2022-07-17T12:07:28.157596Z"
    }
   },
   "outputs": [
    {
     "name": "stdout",
     "output_type": "stream",
     "text": [
      "Probability = 0.95, Critical Value = 791.8799091140163, Test statistic = 125812.28625715601\n",
      "\n",
      "Dependent (Reject H0 or Null Hypothesis)\n",
      "Significance : 0.050, P-Value : 0.00\n",
      "Dependent (Reject H0 or Null Hypothesis)\n"
     ]
    }
   ],
   "source": [
    "print('Probability = {}, Critical Value = {}, Test statistic = {}'.format(prob, critical_value, stat))\n",
    "print()\n",
    "if abs(stat) >= critical_value:\n",
    "    print('Dependent (Reject H0 or Null Hypothesis)')\n",
    "else:\n",
    "    print('Independent (Failed to reject Null Hypothesis)')\n",
    "\n",
    "\n",
    "# interpreting the P-Value\n",
    "alpha = 1 - prob\n",
    "print('Significance : %.3f, P-Value : %.2f'%(alpha, p))\n",
    "if p <= alpha:\n",
    "    print('Dependent (Reject H0 or Null Hypothesis)')\n",
    "else:\n",
    "    print('Independent (Failed to reject Null Hypothesis)')"
   ]
  },
  {
   "cell_type": "code",
   "execution_count": null,
   "id": "aef2edff",
   "metadata": {},
   "outputs": [],
   "source": []
  }
 ],
 "metadata": {
  "kernelspec": {
   "display_name": "Python 3 (ipykernel)",
   "language": "python",
   "name": "python3"
  },
  "language_info": {
   "codemirror_mode": {
    "name": "ipython",
    "version": 3
   },
   "file_extension": ".py",
   "mimetype": "text/x-python",
   "name": "python",
   "nbconvert_exporter": "python",
   "pygments_lexer": "ipython3",
   "version": "3.10.10"
  },
  "toc": {
   "base_numbering": 1,
   "nav_menu": {},
   "number_sections": true,
   "sideBar": true,
   "skip_h1_title": false,
   "title_cell": "Table of Contents",
   "title_sidebar": "Contents",
   "toc_cell": false,
   "toc_position": {},
   "toc_section_display": true,
   "toc_window_display": false
  }
 },
 "nbformat": 4,
 "nbformat_minor": 5
}
